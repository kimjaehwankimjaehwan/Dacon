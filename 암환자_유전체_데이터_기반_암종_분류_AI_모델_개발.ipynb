{
  "nbformat": 4,
  "nbformat_minor": 0,
  "metadata": {
    "colab": {
      "provenance": [],
      "machine_shape": "hm",
      "gpuType": "A100",
      "authorship_tag": "ABX9TyPLPmas1AHR3Z5Vghkigcfi",
      "include_colab_link": true
    },
    "kernelspec": {
      "name": "python3",
      "display_name": "Python 3"
    },
    "language_info": {
      "name": "python"
    },
    "accelerator": "GPU"
  },
  "cells": [
    {
      "cell_type": "markdown",
      "metadata": {
        "id": "view-in-github",
        "colab_type": "text"
      },
      "source": [
        "<a href=\"https://colab.research.google.com/github/kimjaehwankimjaehwan/Dacon/blob/main/%EC%95%94%ED%99%98%EC%9E%90_%EC%9C%A0%EC%A0%84%EC%B2%B4_%EB%8D%B0%EC%9D%B4%ED%84%B0_%EA%B8%B0%EB%B0%98_%EC%95%94%EC%A2%85_%EB%B6%84%EB%A5%98_AI_%EB%AA%A8%EB%8D%B8_%EA%B0%9C%EB%B0%9C.ipynb\" target=\"_parent\"><img src=\"https://colab.research.google.com/assets/colab-badge.svg\" alt=\"Open In Colab\"/></a>"
      ]
    },
    {
      "cell_type": "markdown",
      "source": [
        "##베이스라인 코드\n",
        "암환자 유전체 데이터 기반 암종 분류 AI 모델 개발\n",
        "'2024 생명연구자원 AI활용 경진대회'는 바이오 데이터를 기반으로 한 AI 기술의 문제 해결 능력을 탐구하는 것을 목표로 합니다.\n",
        "이 대회는 바이오 분야에서 AI 활용의 저변을 확대하고, 복잡한 바이오 데이터를 효율적으로 분석 및 해석할 수 있는 AI 알고리즘 개발에 초점을 맞추고 있습니다.\n",
        "\n",
        "본 대회의 구체적인 과제는 암환자 유전체 데이터의 변이 정보를 활용하여 암종을 분류하는 AI 모델을 개발하는 것입니다.\n",
        "참가자들은 제공된 학습 데이터셋(암환자 유전체 변이 정보)을 사용하여 특정 변이 정보를 바탕으로 암종을 정확하게 분류할 수 있는 AI 알고리즘을 개발해야 합니다.\n",
        "\n",
        "이 대회의 궁극적인 목적은 바이오 데이터의 활용도를 높이고, 바이오 분야에서 AI 기술의 적용 가능성을 극대화하며, 인공지능 기술이 실제 바이오 의료 문제 해결에 어떻게 기여할 수 있는지 탐구하는 것입니다."
      ],
      "metadata": {
        "id": "lzFNX7sYXC_1"
      }
    },
    {
      "cell_type": "code",
      "source": [
        "!unzip '/content/open (1).zip' -d '/content/'"
      ],
      "metadata": {
        "colab": {
          "base_uri": "https://localhost:8080/"
        },
        "id": "cfSFvT2NcogI",
        "outputId": "da3ec9a9-c7ce-4cb6-e432-43362c51c1e8"
      },
      "execution_count": 1,
      "outputs": [
        {
          "output_type": "stream",
          "name": "stdout",
          "text": [
            "Archive:  /content/open (1).zip\n",
            "  inflating: /content/sample_submission.csv  \n",
            "  inflating: /content/test.csv       \n",
            "  inflating: /content/train.csv      \n"
          ]
        }
      ]
    },
    {
      "cell_type": "code",
      "execution_count": 4,
      "metadata": {
        "id": "1IixPTwJWzwr"
      },
      "outputs": [],
      "source": [
        "# Import Library\n",
        "import pandas as pd\n",
        "from sklearn.preprocessing import LabelEncoder, OrdinalEncoder\n",
        "import xgboost as xgb\n",
        "# Load Data\n",
        "train = pd.read_csv(\"./train.csv\")\n",
        "test = pd.read_csv(\"./test.csv\")\n"
      ]
    },
    {
      "cell_type": "code",
      "source": [
        "train.head() , test.head()"
      ],
      "metadata": {
        "colab": {
          "base_uri": "https://localhost:8080/"
        },
        "id": "sTI68JMpd6kM",
        "outputId": "94957069-dfd9-40f8-cc83-09758a0d2204"
      },
      "execution_count": 6,
      "outputs": [
        {
          "output_type": "execute_result",
          "data": {
            "text/plain": [
              "(           ID SUBCLASS    A2M AAAS AADAT AARS1 ABAT ABCA1 ABCA2 ABCA3  ...  \\\n",
              " 0  TRAIN_0000    KIPAN     WT   WT    WT    WT   WT    WT    WT    WT  ...   \n",
              " 1  TRAIN_0001     SARC     WT   WT    WT    WT   WT    WT    WT    WT  ...   \n",
              " 2  TRAIN_0002     SKCM  R895R   WT    WT    WT   WT    WT    WT    WT  ...   \n",
              " 3  TRAIN_0003     KIRC     WT   WT    WT    WT   WT    WT    WT    WT  ...   \n",
              " 4  TRAIN_0004   GBMLGG     WT   WT    WT    WT   WT    WT    WT    WT  ...   \n",
              " \n",
              "   ZNF292 ZNF365 ZNF639 ZNF707 ZNFX1 ZNRF4 ZPBP ZW10 ZWINT ZYX  \n",
              " 0     WT     WT     WT     WT    WT    WT   WT   WT    WT  WT  \n",
              " 1     WT     WT     WT     WT    WT    WT   WT   WT    WT  WT  \n",
              " 2     WT     WT     WT     WT    WT    WT   WT   WT    WT  WT  \n",
              " 3     WT     WT     WT     WT    WT    WT   WT   WT    WT  WT  \n",
              " 4     WT     WT     WT     WT    WT    WT   WT   WT    WT  WT  \n",
              " \n",
              " [5 rows x 4386 columns],\n",
              "           ID A2M AAAS AADAT AARS1 ABAT  ABCA1 ABCA2 ABCA3 ABCA4  ... ZNF292  \\\n",
              " 0  TEST_0000  WT   WT    WT    WT   WT     WT    WT    WT    WT  ...     WT   \n",
              " 1  TEST_0001  WT   WT    WT    WT   WT  R587Q    WT    WT    WT  ...     WT   \n",
              " 2  TEST_0002  WT   WT    WT    WT   WT     WT    WT    WT    WT  ...     WT   \n",
              " 3  TEST_0003  WT   WT    WT    WT   WT     WT    WT    WT    WT  ...     WT   \n",
              " 4  TEST_0004  WT   WT    WT    WT   WT     WT    WT    WT    WT  ...     WT   \n",
              " \n",
              "   ZNF365 ZNF639 ZNF707 ZNFX1    ZNRF4 ZPBP ZW10 ZWINT ZYX  \n",
              " 0     WT     WT     WT    WT       WT   WT   WT    WT  WT  \n",
              " 1     WT     WT     WT    WT  I383Sfs   WT   WT    WT  WT  \n",
              " 2     WT     WT     WT    WT       WT   WT   WT    WT  WT  \n",
              " 3     WT     WT     WT    WT       WT   WT   WT    WT  WT  \n",
              " 4     WT     WT     WT    WT       WT   WT   WT    WT  WT  \n",
              " \n",
              " [5 rows x 4385 columns])"
            ]
          },
          "metadata": {},
          "execution_count": 6
        }
      ]
    },
    {
      "cell_type": "code",
      "source": [
        "train.info()"
      ],
      "metadata": {
        "colab": {
          "base_uri": "https://localhost:8080/"
        },
        "id": "rR-XSueEeBUf",
        "outputId": "be1b37e4-79bb-4cd4-d337-44cf99c5b7cf"
      },
      "execution_count": 8,
      "outputs": [
        {
          "output_type": "stream",
          "name": "stdout",
          "text": [
            "<class 'pandas.core.frame.DataFrame'>\n",
            "RangeIndex: 6201 entries, 0 to 6200\n",
            "Columns: 4386 entries, ID to ZYX\n",
            "dtypes: object(4386)\n",
            "memory usage: 207.5+ MB\n"
          ]
        }
      ]
    },
    {
      "cell_type": "code",
      "source": [
        "train.columns"
      ],
      "metadata": {
        "colab": {
          "base_uri": "https://localhost:8080/"
        },
        "id": "1SKa1SY3eHZx",
        "outputId": "862fe654-39bd-46b7-9c74-604d713b9e34"
      },
      "execution_count": 9,
      "outputs": [
        {
          "output_type": "execute_result",
          "data": {
            "text/plain": [
              "Index(['ID', 'SUBCLASS', 'A2M', 'AAAS', 'AADAT', 'AARS1', 'ABAT', 'ABCA1',\n",
              "       'ABCA2', 'ABCA3',\n",
              "       ...\n",
              "       'ZNF292', 'ZNF365', 'ZNF639', 'ZNF707', 'ZNFX1', 'ZNRF4', 'ZPBP',\n",
              "       'ZW10', 'ZWINT', 'ZYX'],\n",
              "      dtype='object', length=4386)"
            ]
          },
          "metadata": {},
          "execution_count": 9
        }
      ]
    },
    {
      "cell_type": "code",
      "source": [
        "# Data Preprocessing\n",
        "# SUBCLASS 가 범주형이기 때문에 LabelEncoder 사용\n",
        "le_subclass = LabelEncoder()\n",
        "train['SUBCLASS'] = le_subclass.fit_transform(train['SUBCLASS'])\n",
        "\n"
      ],
      "metadata": {
        "id": "ChYEMcH8W30o"
      },
      "execution_count": null,
      "outputs": []
    },
    {
      "cell_type": "code",
      "source": [
        "# 변환된 레이블 확인\n",
        "for i, label in enumerate(le_subclass.classes_):\n",
        "    print(f\"원래 레이블: {label}, 변환된 숫자: {i}\")\n",
        "## x 의 경우도 범주형으로 구성되어 있어, 알맞은 인코딩 필요\n",
        "X = train.drop(columns=['SUBCLASS', 'ID'])\n",
        "y_subclass = train['SUBCLASS']\n",
        "\n",
        "categorical_columns = X.select_dtypes(include=['object', 'category']).columns\n",
        "ordinal_encoder = OrdinalEncoder(handle_unknown='use_encoded_value', unknown_value=-1)\n",
        "X_encoded = X.copy()\n",
        "X_encoded[categorical_columns] = ordinal_encoder.fit_transform(X[categorical_columns])\n"
      ],
      "metadata": {
        "id": "GPwbu_j7W332"
      },
      "execution_count": null,
      "outputs": []
    },
    {
      "cell_type": "code",
      "source": [
        "# Model Define and Train\n",
        "model = xgb.XGBClassifier(\n",
        "    n_estimators=100,\n",
        "    learning_rate=0.1,\n",
        "    max_depth=6,\n",
        "    random_state=42,\n",
        "    use_label_encoder=False,\n",
        "    eval_metric='mlogloss'\n",
        ")\n",
        "\n",
        "model.fit(X_encoded, y_subclass)\n"
      ],
      "metadata": {
        "id": "Ltfe5zkWW36j"
      },
      "execution_count": null,
      "outputs": []
    },
    {
      "cell_type": "code",
      "source": [
        "# Inference\n",
        "test_X = test.drop(columns=['ID'])\n",
        "X_encoded = test_X.copy()\n",
        "X_encoded[categorical_columns] = ordinal_encoder.transform(test_X[categorical_columns])\n",
        "predictions = model.predict(X_encoded)\n",
        "original_labels = le_subclass.inverse_transform(predictions)\n"
      ],
      "metadata": {
        "id": "hS8T-a2PW4A3"
      },
      "execution_count": null,
      "outputs": []
    },
    {
      "cell_type": "code",
      "source": [
        "# Submission\n",
        "submission = pd.read_csv(\"./sample_submission.csv\")\n",
        "submission[\"SUBCLASS\"] = original_labels\n",
        "submission.to_csv('./baseline_submission.csv', encoding='UTF-8-sig', index=False)"
      ],
      "metadata": {
        "id": "Obyt8o2aW4CL"
      },
      "execution_count": null,
      "outputs": []
    },
    {
      "cell_type": "code",
      "source": [],
      "metadata": {
        "id": "rZ7z3PzpW4Do"
      },
      "execution_count": null,
      "outputs": []
    },
    {
      "cell_type": "code",
      "source": [],
      "metadata": {
        "id": "F6yMYXuWW4Gw"
      },
      "execution_count": null,
      "outputs": []
    },
    {
      "cell_type": "code",
      "source": [],
      "metadata": {
        "id": "yRs7NsA2W4Js"
      },
      "execution_count": null,
      "outputs": []
    },
    {
      "cell_type": "code",
      "source": [],
      "metadata": {
        "id": "OdgfzDGhW4Ms"
      },
      "execution_count": null,
      "outputs": []
    },
    {
      "cell_type": "code",
      "source": [],
      "metadata": {
        "id": "JeFd__83W4Pv"
      },
      "execution_count": null,
      "outputs": []
    },
    {
      "cell_type": "code",
      "source": [],
      "metadata": {
        "id": "2YCAzEXFW4Sw"
      },
      "execution_count": null,
      "outputs": []
    },
    {
      "cell_type": "code",
      "source": [],
      "metadata": {
        "id": "bd6c6R1NW4V1"
      },
      "execution_count": null,
      "outputs": []
    },
    {
      "cell_type": "code",
      "source": [],
      "metadata": {
        "id": "uWU_VBkVW4ZC"
      },
      "execution_count": null,
      "outputs": []
    },
    {
      "cell_type": "code",
      "source": [],
      "metadata": {
        "id": "yp8mJhqTW4cJ"
      },
      "execution_count": null,
      "outputs": []
    },
    {
      "cell_type": "code",
      "source": [],
      "metadata": {
        "id": "hYTLQqIiW4fk"
      },
      "execution_count": null,
      "outputs": []
    }
  ]
}