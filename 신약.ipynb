{
  "cells": [
    {
      "cell_type": "markdown",
      "metadata": {
        "id": "view-in-github",
        "colab_type": "text"
      },
      "source": [
        "<a href=\"https://colab.research.google.com/github/kimjaehwankimjaehwan/Dacon/blob/main/%EC%8B%A0%EC%95%BD.ipynb\" target=\"_parent\"><img src=\"https://colab.research.google.com/assets/colab-badge.svg\" alt=\"Open In Colab\"/></a>"
      ]
    },
    {
      "cell_type": "code",
      "execution_count": 1,
      "metadata": {
        "colab": {
          "base_uri": "https://localhost:8080/"
        },
        "id": "k6AAfmyNApVS",
        "outputId": "8ccd9837-979b-4789-fa73-2f95440b2418"
      },
      "outputs": [
        {
          "output_type": "stream",
          "name": "stdout",
          "text": [
            "Mounted at /content/drive\n"
          ]
        }
      ],
      "source": [
        "from google.colab import drive\n",
        "drive.mount('/content/drive')"
      ]
    },
    {
      "cell_type": "code",
      "execution_count": 2,
      "metadata": {
        "colab": {
          "base_uri": "https://localhost:8080/"
        },
        "id": "tMCdAMPHA5p8",
        "outputId": "0c6e413b-554a-4d76-c87d-52217f28160b"
      },
      "outputs": [
        {
          "output_type": "stream",
          "name": "stdout",
          "text": [
            "Collecting rdkit-pypi\n",
            "  Downloading rdkit_pypi-2022.9.5-cp310-cp310-manylinux_2_17_x86_64.manylinux2014_x86_64.whl.metadata (3.9 kB)\n",
            "Requirement already satisfied: numpy in /usr/local/lib/python3.10/dist-packages (from rdkit-pypi) (1.26.4)\n",
            "Requirement already satisfied: Pillow in /usr/local/lib/python3.10/dist-packages (from rdkit-pypi) (9.4.0)\n",
            "Downloading rdkit_pypi-2022.9.5-cp310-cp310-manylinux_2_17_x86_64.manylinux2014_x86_64.whl (29.4 MB)\n",
            "\u001b[2K   \u001b[90m━━━━━━━━━━━━━━━━━━━━━━━━━━━━━━━━━━━━━━━━\u001b[0m \u001b[32m29.4/29.4 MB\u001b[0m \u001b[31m47.4 MB/s\u001b[0m eta \u001b[36m0:00:00\u001b[0m\n",
            "\u001b[?25hInstalling collected packages: rdkit-pypi\n",
            "Successfully installed rdkit-pypi-2022.9.5\n"
          ]
        }
      ],
      "source": [
        "!pip install rdkit-pypi"
      ]
    },
    {
      "cell_type": "code",
      "execution_count": 3,
      "metadata": {
        "id": "w8qdKF95AaP0"
      },
      "outputs": [],
      "source": [
        "# 제 2회 신약 개발 AI 경진대회 Baseline\n",
        "import pandas as pd\n",
        "import numpy as np\n",
        "import os\n",
        "import random\n",
        "\n",
        "from rdkit import Chem\n",
        "from rdkit.Chem import AllChem\n",
        "from sklearn.model_selection import train_test_split\n",
        "from sklearn.ensemble import RandomForestRegressor\n",
        "from sklearn.metrics import mean_squared_error\n",
        "\n"
      ]
    },
    {
      "cell_type": "code",
      "execution_count": 4,
      "metadata": {
        "id": "kljg0LOrAdwH"
      },
      "outputs": [],
      "source": [
        "CFG = {\n",
        "    'NBITS':2048,\n",
        "    'SEED':42,\n",
        "}\n",
        "\n",
        "def seed_everything(seed):\n",
        "    random.seed(seed)\n",
        "    os.environ['PYTHONHASHSEED'] = str(seed)\n",
        "    np.random.seed(seed)\n",
        "seed_everything(CFG['SEED']) # Seed 고정\n",
        "\n",
        "# SMILES 데이터를 분자 지문으로 변환\n",
        "def smiles_to_fingerprint(smiles):\n",
        "    mol = Chem.MolFromSmiles(smiles)\n",
        "    if mol is not None:\n",
        "        fp = AllChem.GetMorganFingerprintAsBitVect(mol, 2, nBits=CFG['NBITS'])\n",
        "        return np.array(fp)\n",
        "    else:\n",
        "        return np.zeros((CFG['NBITS'],))\n",
        "\n"
      ]
    },
    {
      "cell_type": "code",
      "execution_count": 5,
      "metadata": {
        "colab": {
          "base_uri": "https://localhost:8080/"
        },
        "id": "m4yYnWeRAdzQ",
        "outputId": "da59ff56-4c46-482c-fbb1-9c6f0cabe0fb"
      },
      "outputs": [
        {
          "output_type": "stream",
          "name": "stderr",
          "text": [
            "<ipython-input-5-41fabfe1763b>:6: SettingWithCopyWarning: \n",
            "A value is trying to be set on a copy of a slice from a DataFrame.\n",
            "Try using .loc[row_indexer,col_indexer] = value instead\n",
            "\n",
            "See the caveats in the documentation: https://pandas.pydata.org/pandas-docs/stable/user_guide/indexing.html#returning-a-view-versus-a-copy\n",
            "  train['Fingerprint'] = train['Smiles'].apply(smiles_to_fingerprint)\n"
          ]
        }
      ],
      "source": [
        "# 학습 ChEMBL 데이터 로드\n",
        "chembl_data = pd.read_csv('/content/drive/MyDrive/데이콘/train.csv')  # 예시 파일 이름\n",
        "chembl_data.head()\n",
        "\n",
        "train = chembl_data[['Smiles', 'pIC50']]\n",
        "train['Fingerprint'] = train['Smiles'].apply(smiles_to_fingerprint)\n",
        "\n",
        "train_x = np.stack(train['Fingerprint'].values)\n",
        "train_y = train['pIC50'].values\n",
        "\n"
      ]
    },
    {
      "cell_type": "code",
      "execution_count": 6,
      "metadata": {
        "id": "mGSTZ74OAd2h"
      },
      "outputs": [],
      "source": [
        "# 학습 및 검증 데이터 분리\n",
        "train_x, val_x, train_y, val_y = train_test_split(train_x, train_y, test_size=0.3, random_state=42)\n",
        "\n",
        "\n"
      ]
    },
    {
      "cell_type": "code",
      "execution_count": null,
      "metadata": {
        "colab": {
          "base_uri": "https://localhost:8080/"
        },
        "id": "flKldbtWBngi",
        "outputId": "51f02772-d7e0-44ec-80a3-7a44911d89c9"
      },
      "outputs": [
        {
          "name": "stdout",
          "output_type": "stream",
          "text": [
            "Fitting 3 folds for each of 100 candidates, totalling 300 fits\n"
          ]
        },
        {
          "name": "stderr",
          "output_type": "stream",
          "text": [
            "/usr/local/lib/python3.10/dist-packages/sklearn/model_selection/_validation.py:425: FitFailedWarning: \n",
            "123 fits failed out of a total of 300.\n",
            "The score on these train-test partitions for these parameters will be set to nan.\n",
            "If these failures are not expected, you can try to debug them by setting error_score='raise'.\n",
            "\n",
            "Below are more details about the failures:\n",
            "--------------------------------------------------------------------------------\n",
            "123 fits failed with the following error:\n",
            "Traceback (most recent call last):\n",
            "  File \"/usr/local/lib/python3.10/dist-packages/sklearn/model_selection/_validation.py\", line 729, in _fit_and_score\n",
            "    estimator.fit(X_train, y_train, **fit_params)\n",
            "  File \"/usr/local/lib/python3.10/dist-packages/sklearn/base.py\", line 1145, in wrapper\n",
            "    estimator._validate_params()\n",
            "  File \"/usr/local/lib/python3.10/dist-packages/sklearn/base.py\", line 638, in _validate_params\n",
            "    validate_parameter_constraints(\n",
            "  File \"/usr/local/lib/python3.10/dist-packages/sklearn/utils/_param_validation.py\", line 96, in validate_parameter_constraints\n",
            "    raise InvalidParameterError(\n",
            "sklearn.utils._param_validation.InvalidParameterError: The 'max_features' parameter of RandomForestRegressor must be an int in the range [1, inf), a float in the range (0.0, 1.0], a str among {'log2', 'sqrt'} or None. Got 'auto' instead.\n",
            "\n",
            "  warnings.warn(some_fits_failed_message, FitFailedWarning)\n",
            "/usr/local/lib/python3.10/dist-packages/sklearn/model_selection/_search.py:979: UserWarning: One or more of the test scores are non-finite: [0.64381503 0.55841116 0.56566001        nan 0.52709572 0.60817726\n",
            " 0.64512081 0.65377582        nan        nan        nan 0.65285183\n",
            " 0.56538141 0.56566493 0.63844789        nan        nan 0.63497245\n",
            "        nan        nan 0.64805517 0.65324542 0.57858579        nan\n",
            " 0.65287528 0.64192557        nan 0.61636297        nan 0.61702113\n",
            " 0.60171008 0.64449153 0.65285183 0.57755017 0.57845927 0.62843862\n",
            " 0.61618696        nan        nan 0.62569685        nan 0.6158732\n",
            " 0.57942738 0.57724106        nan 0.6489488         nan 0.60695142\n",
            " 0.60895616 0.64441019        nan        nan        nan        nan\n",
            " 0.64532104 0.6070599         nan        nan        nan 0.61694588\n",
            " 0.64443655 0.52516994        nan        nan 0.61842783        nan\n",
            "        nan        nan 0.65071469        nan 0.60937781 0.60316339\n",
            " 0.62499665        nan        nan 0.63833658 0.63538195 0.64660682\n",
            " 0.55120948        nan        nan        nan        nan        nan\n",
            " 0.60790018 0.64841515 0.64240875 0.57818921 0.57755017 0.54674241\n",
            " 0.63544545 0.61008798 0.64543282        nan 0.60751413        nan\n",
            "        nan        nan 0.61639336        nan]\n",
            "  warnings.warn(\n"
          ]
        },
        {
          "name": "stdout",
          "output_type": "stream",
          "text": [
            "{'n_estimators': 300, 'min_samples_split': 5, 'min_samples_leaf': 1, 'max_features': 'sqrt', 'max_depth': 60, 'bootstrap': False}\n"
          ]
        }
      ],
      "source": [
        "# from sklearn.model_selection import RandomizedSearchCV\n",
        "# import numpy as np\n",
        "# # 하이퍼 파라미터 그리드 설정\n",
        "# params = {\n",
        "#     'n_estimators': [int(x)for x in np.linspace(100,1000,10)],\n",
        "#     'max_features': ['auto', 'sqrt'],  # 'max_feature'를 'max_features'로 수정\n",
        "#     'max_depth': [int(x)for x in np.linspace(10,110,11)]+[None],\n",
        "#     'min_samples_split': [2, 5, 10],\n",
        "#     'min_samples_leaf': [1, 2, 4],\n",
        "#     'bootstrap': [True, False]\n",
        "# }\n",
        "# rfr = RandomForestRegressor(random_state=CFG['SEED'])\n",
        "# rcv = RandomizedSearchCV(rfr, param_distributions=params, n_iter = 100, cv = 3, verbose = 2, random_state = 42, n_jobs = -1)\n",
        "# rcv.fit(train_x, train_y)\n",
        "# model = rcv.best_estimator_\n",
        "# print(rcv.best_params_)"
      ]
    },
    {
      "cell_type": "code",
      "execution_count": null,
      "metadata": {
        "colab": {
          "base_uri": "https://localhost:8080/"
        },
        "id": "zCGlzohUGIWu",
        "outputId": "d114d780-2a70-4bc6-c6c1-f32f8c535a90"
      },
      "outputs": [
        {
          "name": "stdout",
          "output_type": "stream",
          "text": [
            "0.9499021545926372 0.6624274823949381\n"
          ]
        }
      ],
      "source": [
        "\n",
        "from sklearn.model_selection import cross_validate\n",
        "from sklearn.ensemble import RandomForestRegressor # Use Regressor for continuous target\n",
        "\n",
        "rf = RandomForestRegressor(n_jobs=-1, random_state=42) # Changed to Regressor\n",
        "scores = cross_validate(rf, train_x, train_y, return_train_score=True, n_jobs=-1)\n",
        "print(np.mean(scores['train_score']), np.mean(scores['test_score']))"
      ]
    },
    {
      "cell_type": "code",
      "execution_count": null,
      "metadata": {
        "colab": {
          "base_uri": "https://localhost:8080/"
        },
        "id": "-1aFTQ1tGKiB",
        "outputId": "d6798225-4586-4b1e-adae-b27cbfd76b3c"
      },
      "outputs": [
        {
          "name": "stdout",
          "output_type": "stream",
          "text": [
            "[0.00000000e+00 9.94707443e-03 5.35362944e-04 ... 2.46440334e-05\n",
            " 4.13348444e-04 1.27338114e-04]\n"
          ]
        }
      ],
      "source": [
        "rf.fit(train_x, train_y)\n",
        "print(rf.feature_importances_)"
      ]
    },
    {
      "cell_type": "code",
      "execution_count": null,
      "metadata": {
        "colab": {
          "base_uri": "https://localhost:8080/"
        },
        "id": "ti0i375EGjVL",
        "outputId": "3b90b057-ceec-453a-83eb-a9400d125010"
      },
      "outputs": [
        {
          "name": "stdout",
          "output_type": "stream",
          "text": [
            "0.6818740814553791\n"
          ]
        }
      ],
      "source": [
        "rf = RandomForestRegressor(oob_score=True, n_jobs=-1, random_state=42) # Use Regressor for continuous target\n",
        "rf.fit(train_x, train_y)\n",
        "print(rf.oob_score_)"
      ]
    },
    {
      "cell_type": "code",
      "execution_count": null,
      "metadata": {
        "colab": {
          "base_uri": "https://localhost:8080/"
        },
        "id": "MndbwMtkGjjy",
        "outputId": "9786483c-9e16-4668-9705-f2108c144e9d"
      },
      "outputs": [
        {
          "name": "stdout",
          "output_type": "stream",
          "text": [
            "0.9933664464493999 0.4148646544761031\n"
          ]
        }
      ],
      "source": [
        "from sklearn.model_selection import cross_validate\n",
        "from sklearn.ensemble import ExtraTreesRegressor # Use Regressor for continuous target\n",
        "\n",
        "et = ExtraTreesRegressor(n_jobs=-1, random_state=42) # Changed to Regressor\n",
        "scores = cross_validate(et, train_x, train_y, return_train_score=True, n_jobs=-1)\n",
        "print(np.mean(scores['train_score']), np.mean(scores['test_score']))"
      ]
    },
    {
      "cell_type": "code",
      "execution_count": null,
      "metadata": {
        "colab": {
          "base_uri": "https://localhost:8080/"
        },
        "id": "drBb7VddGjpk",
        "outputId": "4fa9bb15-dd3e-4ce1-a86d-ac06f4b503af"
      },
      "outputs": [
        {
          "name": "stdout",
          "output_type": "stream",
          "text": [
            "[6.59494635e-06 7.32781752e-04 3.63164498e-04 ... 1.04850125e-06\n",
            " 1.35615113e-04 2.11134562e-06]\n"
          ]
        }
      ],
      "source": [
        "et.fit(train_x, train_y)\n",
        "print(et.feature_importances_)"
      ]
    },
    {
      "cell_type": "code",
      "execution_count": null,
      "metadata": {
        "colab": {
          "base_uri": "https://localhost:8080/"
        },
        "id": "z5PnypTaGjts",
        "outputId": "3cf317f5-8ce8-4e03-b8fb-091f8632dd1b"
      },
      "outputs": [
        {
          "name": "stdout",
          "output_type": "stream",
          "text": [
            "0.7748257336653344 0.6178010752523058\n"
          ]
        }
      ],
      "source": [
        "from sklearn.ensemble import GradientBoostingRegressor\n",
        "\n",
        "gb = GradientBoostingRegressor(random_state=42)\n",
        "scores = cross_validate(gb, train_x, train_y, return_train_score=True, n_jobs=-1)\n",
        "print(np.mean(scores['train_score']), np.mean(scores['test_score']))"
      ]
    },
    {
      "cell_type": "code",
      "execution_count": null,
      "metadata": {
        "colab": {
          "base_uri": "https://localhost:8080/"
        },
        "id": "6MJpXI6gGjxq",
        "outputId": "582025e4-2c17-4c67-d33f-7b068f4ca726"
      },
      "outputs": [
        {
          "name": "stdout",
          "output_type": "stream",
          "text": [
            "0.9620557053032698 0.6096310015553725\n"
          ]
        }
      ],
      "source": [
        "gb = GradientBoostingRegressor(n_estimators=500, learning_rate=0.2, random_state=42) ## n_estimator로 트리의 갯수를 500개로 조정, learning_rate 기본값인 0.1에서 0.2로 변경\n",
        "scores = cross_validate(gb, train_x, train_y, return_train_score=True, n_jobs=-1)\n",
        "print(np.mean(scores['train_score']), np.mean(scores['test_score']))"
      ]
    },
    {
      "cell_type": "code",
      "execution_count": null,
      "metadata": {
        "colab": {
          "base_uri": "https://localhost:8080/"
        },
        "id": "Duy8T5qZGj1U",
        "outputId": "15250deb-ee8e-49ef-a878-977f1a687583"
      },
      "outputs": [
        {
          "name": "stdout",
          "output_type": "stream",
          "text": [
            "[0.         0.01755002 0.00014498 ... 0.         0.         0.        ]\n"
          ]
        }
      ],
      "source": [
        "gb.fit(train_x, train_y)\n",
        "print(gb.feature_importances_)"
      ]
    },
    {
      "cell_type": "code",
      "execution_count": null,
      "metadata": {
        "id": "Ptsk3WaGGj43"
      },
      "outputs": [],
      "source": [
        "## n_estimate의 갯수를 조절해서 모델의 훈련데이터의 score와 테스트데이터의 score를 시각화 하기\n",
        "train_scores = []\n",
        "test_scores = []\n",
        "estimators = range(5, 500, 50)\n",
        "for i in range(5, 500, 50):\n",
        "    gb = GradientBoostingRegressor(n_estimators=i, random_state=42)\n",
        "    scores = cross_validate(gb, train_x, train_y, return_train_score=True, n_jobs=-1)\n",
        "    train_scores.append(np.mean(scores['train_score']))\n",
        "    test_scores.append(np.mean(scores['test_score']))"
      ]
    },
    {
      "cell_type": "code",
      "execution_count": null,
      "metadata": {
        "colab": {
          "base_uri": "https://localhost:8080/"
        },
        "id": "_19gUN8AHyMK",
        "outputId": "81220daf-98dc-432b-a224-a956812d5bfe"
      },
      "outputs": [
        {
          "name": "stdout",
          "output_type": "stream",
          "text": [
            "Train Score: 0.28344160675458097, Test Score: 0.24712255588728124\n",
            "Train Score: 0.7054818452000896, Test Score: 0.5858900441450255\n",
            "Train Score: 0.7798075069222135, Test Score: 0.619194825207307\n",
            "Train Score: 0.8204493846235774, Test Score: 0.6273956854978759\n",
            "Train Score: 0.8476601688820594, Test Score: 0.6328165744563774\n",
            "Train Score: 0.8681044002648628, Test Score: 0.6346271258290676\n",
            "Train Score: 0.8833955084253825, Test Score: 0.6327612500279713\n",
            "Train Score: 0.8955614910755507, Test Score: 0.6326797954727228\n",
            "Train Score: 0.9055013573588958, Test Score: 0.631372274809309\n",
            "Train Score: 0.9143209072059972, Test Score: 0.6320524254331998\n",
            "0.8681044002648628 0.6346271258290676 5\n",
            "255\n"
          ]
        }
      ],
      "source": [
        "list(map(lambda x: print(f\"Train Score: {x[0]}, Test Score: {x[1]}\"), zip(train_scores, test_scores)))\n",
        "# 테스트데이터 중 가장 높은 점수 고르고 해당 모델의 인덱스와 훈련데이터 점수, 테스트 데이터 점수를 표시하기\n",
        "print(train_scores[test_scores.index(max(test_scores))], max(test_scores),  test_scores.index(max(test_scores)))\n",
        "print(estimators[test_scores.index(max(test_scores))])"
      ]
    },
    {
      "cell_type": "code",
      "execution_count": null,
      "metadata": {
        "colab": {
          "base_uri": "https://localhost:8080/",
          "height": 430
        },
        "id": "0OLAmsk3HyQD",
        "outputId": "320f48f4-5f70-457e-c420-4a294c99ed07"
      },
      "outputs": [
        {
          "data": {
            "image/png": "[encoded data removed]",
            "text/plain": [
              "<Figure size 640x480 with 1 Axes>"
            ]
          },
          "metadata": {},
          "output_type": "display_data"
        }
      ],
      "source": [
        "import matplotlib.pyplot as plt\n",
        "estimators = range(5, 500,50)\n",
        "plt.plot(estimators, train_scores, label='train')\n",
        "plt.plot(estimators, test_scores, label='test')\n",
        "plt.legend()\n",
        "plt.show()"
      ]
    },
    {
      "cell_type": "code",
      "execution_count": null,
      "metadata": {
        "colab": {
          "base_uri": "https://localhost:8080/"
        },
        "id": "oH8giPr8HyTn",
        "outputId": "e3b6498d-969d-40f5-a390-ed6733a78085"
      },
      "outputs": [
        {
          "name": "stderr",
          "output_type": "stream",
          "text": [
            "/usr/local/lib/python3.10/dist-packages/sklearn/experimental/enable_hist_gradient_boosting.py:15: UserWarning: Since version 1.0, it is not needed to import enable_hist_gradient_boosting anymore. HistGradientBoostingClassifier and HistGradientBoostingRegressor are now stable and can be normally imported from sklearn.ensemble.\n",
            "  warnings.warn(\n"
          ]
        },
        {
          "name": "stdout",
          "output_type": "stream",
          "text": [
            "0.9102382786667613 0.6452546763896557\n"
          ]
        }
      ],
      "source": [
        "from sklearn.experimental import enable_hist_gradient_boosting\n",
        "from sklearn.ensemble import HistGradientBoostingRegressor\n",
        "\n",
        "hgb = HistGradientBoostingRegressor(random_state=42)\n",
        "scores = cross_validate(hgb, train_x, train_y, return_train_score=True, n_jobs=-1)\n",
        "\n",
        "print(np.mean(scores['train_score']), np.mean(scores['test_score']))"
      ]
    },
    {
      "cell_type": "code",
      "execution_count": null,
      "metadata": {
        "colab": {
          "base_uri": "https://localhost:8080/"
        },
        "id": "hCCoT70KHyXO",
        "outputId": "3b51bb2f-18c6-454b-bf77-80941d01e541"
      },
      "outputs": [
        {
          "name": "stdout",
          "output_type": "stream",
          "text": [
            "[0.         0.00118886 0.00093299 ... 0.         0.         0.        ]\n"
          ]
        }
      ],
      "source": [
        "from sklearn.inspection import permutation_importance\n",
        "hgb.fit(train_x, train_y)\n",
        "result = permutation_importance(hgb, train_x, train_y, n_repeats=10, random_state=42, n_jobs=-1)\n",
        "\n",
        "print(result.importances_mean)"
      ]
    },
    {
      "cell_type": "code",
      "execution_count": null,
      "metadata": {
        "colab": {
          "base_uri": "https://localhost:8080/"
        },
        "id": "tUNzEvDOHybA",
        "outputId": "8f765635-89d2-4699-d40d-442e62298653"
      },
      "outputs": [
        {
          "name": "stdout",
          "output_type": "stream",
          "text": [
            "[ 0.         -0.0006839   0.00170222 ...  0.          0.\n",
            "  0.        ]\n"
          ]
        }
      ],
      "source": [
        "result = permutation_importance(hgb, val_x, val_y, n_repeats=10, random_state=42, n_jobs=-1)\n",
        "print(result.importances_mean)"
      ]
    },
    {
      "cell_type": "code",
      "execution_count": null,
      "metadata": {
        "colab": {
          "base_uri": "https://localhost:8080/"
        },
        "id": "AHHWz-ouHyeL",
        "outputId": "523a0698-40ea-4b53-b795-3737b7000832"
      },
      "outputs": [
        {
          "data": {
            "text/plain": [
              "0.7044541638966003"
            ]
          },
          "execution_count": 35,
          "metadata": {},
          "output_type": "execute_result"
        }
      ],
      "source": [
        "hgb.score(val_x, val_y)"
      ]
    },
    {
      "cell_type": "code",
      "execution_count": null,
      "metadata": {
        "colab": {
          "base_uri": "https://localhost:8080/"
        },
        "id": "o6sX17G_HyiE",
        "outputId": "ed658a70-aa64-4165-a315-f6f3bc64543a"
      },
      "outputs": [
        {
          "name": "stdout",
          "output_type": "stream",
          "text": [
            "0.9587643668454208 0.6304783536524574\n"
          ]
        }
      ],
      "source": [
        "from xgboost import XGBRegressor\n",
        "\n",
        "xgb = XGBRegressor(tree_method='hist', random_state=42)\n",
        "scores = cross_validate(xgb, train_x, train_y, return_train_score=True, n_jobs=-1)\n",
        "\n",
        "print(np.mean(scores['train_score']), np.mean(scores['test_score']))"
      ]
    },
    {
      "cell_type": "code",
      "execution_count": null,
      "metadata": {
        "colab": {
          "base_uri": "https://localhost:8080/"
        },
        "id": "Vf04qKJLIpq7",
        "outputId": "454bf45b-4fde-42ac-cedc-b2c0e17203eb"
      },
      "outputs": [
        {
          "name": "stderr",
          "output_type": "stream",
          "text": [
            "/usr/local/lib/python3.10/dist-packages/dask/dataframe/__init__.py:42: FutureWarning: \n",
            "Dask dataframe query planning is disabled because dask-expr is not installed.\n",
            "\n",
            "You can install it with `pip install dask[dataframe]` or `conda install dask`.\n",
            "This will raise in a future version.\n",
            "\n",
            "  warnings.warn(msg, FutureWarning)\n"
          ]
        },
        {
          "name": "stdout",
          "output_type": "stream",
          "text": [
            "0.9102382805837891 0.645254674945162\n"
          ]
        }
      ],
      "source": [
        "from lightgbm import LGBMRegressor\n",
        "\n",
        "lgb = LGBMRegressor(random_state=42)\n",
        "scores = cross_validate(lgb, train_x, train_y, return_train_score=True, n_jobs=-1)\n",
        "\n",
        "print(np.mean(scores['train_score']), np.mean(scores['test_score']))"
      ]
    },
    {
      "cell_type": "code",
      "execution_count": null,
      "metadata": {
        "colab": {
          "base_uri": "https://localhost:8080/"
        },
        "id": "tvbiAzQvIpvQ",
        "outputId": "249e9e1b-1a44-4378-d66b-5cde45446b9a"
      },
      "outputs": [
        {
          "name": "stdout",
          "output_type": "stream",
          "text": [
            "0.6821723210133637 0.56532972892432\n"
          ]
        }
      ],
      "source": [
        "from sklearn.ensemble import AdaBoostRegressor\n",
        "from sklearn.tree import DecisionTreeRegressor\n",
        "\n",
        "base_estimator = DecisionTreeRegressor(max_depth=5, random_state=42)\n",
        "ab = AdaBoostRegressor(base_estimator=base_estimator, n_estimators=50, random_state=42)\n",
        "scores = cross_validate(ab, train_x, train_y, return_train_score=True, n_jobs=-1)\n",
        "\n",
        "print(np.mean(scores['train_score']), np.mean(scores['test_score']))"
      ]
    },
    {
      "cell_type": "code",
      "execution_count": null,
      "metadata": {
        "colab": {
          "base_uri": "https://localhost:8080/"
        },
        "id": "2u_mzRxHIpzb",
        "outputId": "06b999e1-fae0-455e-d87f-bef3a1f116ef"
      },
      "outputs": [
        {
          "name": "stdout",
          "output_type": "stream",
          "text": [
            "0.671988160270061 0.5495487780183128\n"
          ]
        }
      ],
      "source": [
        "ab = AdaBoostRegressor(base_estimator=base_estimator, n_estimators=100, random_state=42)\n",
        "scores = cross_validate(ab, train_x, train_y, return_train_score=True, n_jobs=-1)\n",
        "\n",
        "print(np.mean(scores['train_score']), np.mean(scores['test_score']))"
      ]
    },
    {
      "cell_type": "code",
      "execution_count": null,
      "metadata": {
        "colab": {
          "base_uri": "https://localhost:8080/"
        },
        "id": "dBDPOuPPIp3P",
        "outputId": "6b27ba09-32f2-4a01-f6e9-9c9370a67b4f"
      },
      "outputs": [
        {
          "name": "stderr",
          "output_type": "stream",
          "text": [
            "/usr/local/lib/python3.10/dist-packages/sklearn/ensemble/_base.py:156: FutureWarning: `base_estimator` was renamed to `estimator` in version 1.2 and will be removed in 1.4.\n",
            "  warnings.warn(\n"
          ]
        },
        {
          "name": "stdout",
          "output_type": "stream",
          "text": [
            "[2.17208398e-05 2.87246805e-03 9.52647982e-04 ... 0.00000000e+00\n",
            " 0.00000000e+00 0.00000000e+00]\n"
          ]
        }
      ],
      "source": [
        "ab.fit(train_x, train_y)\n",
        "print(ab.feature_importances_)"
      ]
    },
    {
      "cell_type": "code",
      "execution_count": null,
      "metadata": {
        "id": "H5O8fGRqIp7k"
      },
      "outputs": [],
      "source": [
        "## n_estimate의 갯수를 조절해서 모델의 훈련데이터의 score와 테스트데이터의 score를 시각화 하기\n",
        "train_scores = []\n",
        "test_scores = []\n",
        "estimators = range(5, 500, 50)\n",
        "for i in range(5, 500, 50):\n",
        "    ab = AdaBoostRegressor(base_estimator=base_estimator, n_estimators=i, random_state=42)\n",
        "    scores = cross_validate(ab, train_x, train_y, return_train_score=True, n_jobs=-1)\n",
        "    train_scores.append(np.mean(scores['train_score']))\n",
        "    test_scores.append(np.mean(scores['test_score']))"
      ]
    },
    {
      "cell_type": "code",
      "execution_count": null,
      "metadata": {
        "colab": {
          "base_uri": "https://localhost:8080/"
        },
        "id": "I_8BBwLLIp_w",
        "outputId": "22b61f31-416f-4b7c-ee4d-f994a6df2b74"
      },
      "outputs": [
        {
          "name": "stdout",
          "output_type": "stream",
          "text": [
            "Train Score: 0.6223712676515988, Test Score: 0.49313906538422375\n",
            "Train Score: 0.6809019463942144, Test Score: 0.5638420354579902\n",
            "Train Score: 0.6706158640282436, Test Score: 0.5487881097636527\n",
            "Train Score: 0.6700495266129618, Test Score: 0.5474348351473095\n",
            "Train Score: 0.6700056249016191, Test Score: 0.5426503401065718\n",
            "Train Score: 0.673149813959643, Test Score: 0.5442187692553176\n",
            "Train Score: 0.6721802932934766, Test Score: 0.5456543820141888\n",
            "Train Score: 0.6727252689236101, Test Score: 0.5471188677254525\n",
            "Train Score: 0.6732354828239104, Test Score: 0.5479910757779736\n",
            "Train Score: 0.6722226919084464, Test Score: 0.5466164004934146\n",
            "0.6809019463942144 0.5638420354579902 1\n",
            "55\n"
          ]
        }
      ],
      "source": [
        "list(map(lambda x: print(f\"Train Score: {x[0]}, Test Score: {x[1]}\"), zip(train_scores, test_scores)))\n",
        "# 테스트데이터 중 가장 높은 점수 고르고 해당 모델의 인덱스와 훈련데이터 점수, 테스트 데이터 점수를 표시하기\n",
        "print(train_scores[test_scores.index(max(test_scores))], max(test_scores),  test_scores.index(max(test_scores)))\n",
        "print(estimators[test_scores.index(max(test_scores))])"
      ]
    },
    {
      "cell_type": "code",
      "execution_count": null,
      "metadata": {
        "colab": {
          "base_uri": "https://localhost:8080/",
          "height": 430
        },
        "id": "oa2nl6e3IqD7",
        "outputId": "0138051f-f574-441c-85dd-fd78fafacfae"
      },
      "outputs": [
        {
          "data": {
            "image/png": "[encoded data removed]",
            "text/plain": [
              "<Figure size 640x480 with 1 Axes>"
            ]
          },
          "metadata": {},
          "output_type": "display_data"
        }
      ],
      "source": [
        "import matplotlib.pyplot as plt\n",
        "estimators = range(5, 500,50)\n",
        "plt.plot(estimators, train_scores, label='train')\n",
        "plt.plot(estimators, test_scores, label='test')\n",
        "plt.legend()\n",
        "plt.show()"
      ]
    },
    {
      "cell_type": "code",
      "execution_count": 8,
      "metadata": {
        "colab": {
          "base_uri": "https://localhost:8080/"
        },
        "id": "_7D-DjIIJ-IX",
        "outputId": "5fcf77a9-0d78-42af-bd24-d8761c975c4e"
      },
      "outputs": [
        {
          "output_type": "stream",
          "name": "stdout",
          "text": [
            "0.6106682850762775 0.5064565885031356\n"
          ]
        }
      ],
      "source": [
        "from sklearn.svm import SVR\n",
        "from sklearn.model_selection import cross_validate\n",
        "\n",
        "svm = SVR(kernel='rbf', epsilon=1.0, gamma='scale')\n",
        "scores = cross_validate(svm, train_x, train_y, return_train_score=True, n_jobs=-1)\n",
        "\n",
        "print(np.mean(scores['train_score']), np.mean(scores['test_score']))"
      ]
    },
    {
      "cell_type": "code",
      "execution_count": null,
      "metadata": {
        "colab": {
          "base_uri": "https://localhost:8080/"
        },
        "id": "C9yZMzS5J-MW",
        "outputId": "bc8637ea-ea22-451f-a254-d3ba66dc8b6c"
      },
      "outputs": [
        {
          "name": "stdout",
          "output_type": "stream",
          "text": [
            "-0.003978325746963352 -0.008632853885280279\n"
          ]
        }
      ],
      "source": [
        "svm = SVR(kernel='rbf', epsilon=5.0, gamma='scale')\n",
        "scores = cross_validate(svm, train_x, train_y, return_train_score=True, n_jobs=-1)\n",
        "\n",
        "print(np.mean(scores['train_score']), np.mean(scores['test_score']))"
      ]
    },
    {
      "cell_type": "code",
      "execution_count": 10,
      "metadata": {
        "colab": {
          "base_uri": "https://localhost:8080/"
        },
        "id": "c8ZBbfDwJ-RU",
        "outputId": "2d50341f-1cfc-4f63-f4d9-98f89d1cae31"
      },
      "outputs": [
        {
          "output_type": "stream",
          "name": "stdout",
          "text": [
            "[ 9.07981670e-05  8.58213104e-03  2.40021071e-04 ... -1.92570225e-05\n",
            "  4.48577045e-04 -7.19896457e-06]\n"
          ]
        }
      ],
      "source": [
        "from sklearn.inspection import permutation_importance # Import the missing function\n",
        "svm.fit(train_x, train_y)\n",
        "result = permutation_importance(svm, train_x, train_y, n_repeats=10, random_state=42, n_jobs=-1)\n",
        "\n",
        "print(result.importances_mean)"
      ]
    },
    {
      "cell_type": "code",
      "execution_count": 11,
      "metadata": {
        "colab": {
          "base_uri": "https://localhost:8080/"
        },
        "id": "4jhypQeuJ-WL",
        "outputId": "735480f4-044e-492d-ef6e-0d28c5b5b3ca"
      },
      "outputs": [
        {
          "output_type": "stream",
          "name": "stdout",
          "text": [
            "[ 7.57643021e-05  8.44370607e-03  4.51499496e-04 ... -1.04380504e-05\n",
            "  1.60799073e-04 -9.53484982e-05]\n"
          ]
        }
      ],
      "source": [
        "result = permutation_importance(svm, val_x, val_y, n_repeats=10, random_state=42, n_jobs=-1)\n",
        "\n",
        "print(result.importances_mean)"
      ]
    },
    {
      "cell_type": "code",
      "execution_count": 12,
      "metadata": {
        "colab": {
          "base_uri": "https://localhost:8080/"
        },
        "id": "h3kL9fJBJ-am",
        "outputId": "395db4de-ea06-4d44-a2e4-cc0b8b2b3dd9"
      },
      "outputs": [
        {
          "output_type": "execute_result",
          "data": {
            "text/plain": [
              "0.542599237800569"
            ]
          },
          "metadata": {},
          "execution_count": 12
        }
      ],
      "source": [
        "svm.score(val_x, val_y)"
      ]
    },
    {
      "cell_type": "code",
      "execution_count": null,
      "metadata": {
        "id": "lIoxkL6FHylz"
      },
      "outputs": [],
      "source": []
    },
    {
      "cell_type": "code",
      "execution_count": null,
      "metadata": {
        "id": "f1dPbOaRHypp"
      },
      "outputs": [],
      "source": []
    },
    {
      "cell_type": "code",
      "execution_count": null,
      "metadata": {
        "id": "5WiWZDmAGj83"
      },
      "outputs": [],
      "source": []
    },
    {
      "cell_type": "code",
      "execution_count": null,
      "metadata": {
        "colab": {
          "base_uri": "https://localhost:8080/",
          "height": 172
        },
        "id": "wNuDfX9-Ad6V",
        "outputId": "cadcc923-443a-40ff-b4b4-9b8a9875a43e"
      },
      "outputs": [
        {
          "name": "stderr",
          "output_type": "stream",
          "text": [
            "/usr/local/lib/python3.10/dist-packages/sklearn/ensemble/_base.py:156: FutureWarning: `base_estimator` was renamed to `estimator` in version 1.2 and will be removed in 1.4.\n",
            "  warnings.warn(\n"
          ]
        },
        {
          "data": {
            "text/html": [
              "<style>#sk-container-id-4 {color: black;}#sk-container-id-4 pre{padding: 0;}#sk-container-id-4 div.sk-toggleable {background-color: white;}#sk-container-id-4 label.sk-toggleable__label {cursor: pointer;display: block;width: 100%;margin-bottom: 0;padding: 0.3em;box-sizing: border-box;text-align: center;}#sk-container-id-4 label.sk-toggleable__label-arrow:before {content: \"▸\";float: left;margin-right: 0.25em;color: #696969;}#sk-container-id-4 label.sk-toggleable__label-arrow:hover:before {color: black;}#sk-container-id-4 div.sk-estimator:hover label.sk-toggleable__label-arrow:before {color: black;}#sk-container-id-4 div.sk-toggleable__content {max-height: 0;max-width: 0;overflow: hidden;text-align: left;background-color: #f0f8ff;}#sk-container-id-4 div.sk-toggleable__content pre {margin: 0.2em;color: black;border-radius: 0.25em;background-color: #f0f8ff;}#sk-container-id-4 input.sk-toggleable__control:checked~div.sk-toggleable__content {max-height: 200px;max-width: 100%;overflow: auto;}#sk-container-id-4 input.sk-toggleable__control:checked~label.sk-toggleable__label-arrow:before {content: \"▾\";}#sk-container-id-4 div.sk-estimator input.sk-toggleable__control:checked~label.sk-toggleable__label {background-color: #d4ebff;}#sk-container-id-4 div.sk-label input.sk-toggleable__control:checked~label.sk-toggleable__label {background-color: #d4ebff;}#sk-container-id-4 input.sk-hidden--visually {border: 0;clip: rect(1px 1px 1px 1px);clip: rect(1px, 1px, 1px, 1px);height: 1px;margin: -1px;overflow: hidden;padding: 0;position: absolute;width: 1px;}#sk-container-id-4 div.sk-estimator {font-family: monospace;background-color: #f0f8ff;border: 1px dotted black;border-radius: 0.25em;box-sizing: border-box;margin-bottom: 0.5em;}#sk-container-id-4 div.sk-estimator:hover {background-color: #d4ebff;}#sk-container-id-4 div.sk-parallel-item::after {content: \"\";width: 100%;border-bottom: 1px solid gray;flex-grow: 1;}#sk-container-id-4 div.sk-label:hover label.sk-toggleable__label {background-color: #d4ebff;}#sk-container-id-4 div.sk-serial::before {content: \"\";position: absolute;border-left: 1px solid gray;box-sizing: border-box;top: 0;bottom: 0;left: 50%;z-index: 0;}#sk-container-id-4 div.sk-serial {display: flex;flex-direction: column;align-items: center;background-color: white;padding-right: 0.2em;padding-left: 0.2em;position: relative;}#sk-container-id-4 div.sk-item {position: relative;z-index: 1;}#sk-container-id-4 div.sk-parallel {display: flex;align-items: stretch;justify-content: center;background-color: white;position: relative;}#sk-container-id-4 div.sk-item::before, #sk-container-id-4 div.sk-parallel-item::before {content: \"\";position: absolute;border-left: 1px solid gray;box-sizing: border-box;top: 0;bottom: 0;left: 50%;z-index: -1;}#sk-container-id-4 div.sk-parallel-item {display: flex;flex-direction: column;z-index: 1;position: relative;background-color: white;}#sk-container-id-4 div.sk-parallel-item:first-child::after {align-self: flex-end;width: 50%;}#sk-container-id-4 div.sk-parallel-item:last-child::after {align-self: flex-start;width: 50%;}#sk-container-id-4 div.sk-parallel-item:only-child::after {width: 0;}#sk-container-id-4 div.sk-dashed-wrapped {border: 1px dashed gray;margin: 0 0.4em 0.5em 0.4em;box-sizing: border-box;padding-bottom: 0.4em;background-color: white;}#sk-container-id-4 div.sk-label label {font-family: monospace;font-weight: bold;display: inline-block;line-height: 1.2em;}#sk-container-id-4 div.sk-label-container {text-align: center;}#sk-container-id-4 div.sk-container {/* jupyter's `normalize.less` sets `[hidden] { display: none; }` but bootstrap.min.css set `[hidden] { display: none !important; }` so we also need the `!important` here to be able to override the default hidden behavior on the sphinx rendered scikit-learn.org. See: https://github.com/scikit-learn/scikit-learn/issues/21755 */display: inline-block !important;position: relative;}#sk-container-id-4 div.sk-text-repr-fallback {display: none;}</style><div id=\"sk-container-id-4\" class=\"sk-top-container\"><div class=\"sk-text-repr-fallback\"><pre>AdaBoostRegressor(base_estimator=DecisionTreeRegressor(max_depth=5,\n",
              "                                                       random_state=42),\n",
              "                  n_estimators=455, random_state=42)</pre><b>In a Jupyter environment, please rerun this cell to show the HTML representation or trust the notebook. <br />On GitHub, the HTML representation is unable to render, please try loading this page with nbviewer.org.</b></div><div class=\"sk-container\" hidden><div class=\"sk-item sk-dashed-wrapped\"><div class=\"sk-label-container\"><div class=\"sk-label sk-toggleable\"><input class=\"sk-toggleable__control sk-hidden--visually\" id=\"sk-estimator-id-4\" type=\"checkbox\" ><label for=\"sk-estimator-id-4\" class=\"sk-toggleable__label sk-toggleable__label-arrow\">AdaBoostRegressor</label><div class=\"sk-toggleable__content\"><pre>AdaBoostRegressor(base_estimator=DecisionTreeRegressor(max_depth=5,\n",
              "                                                       random_state=42),\n",
              "                  n_estimators=455, random_state=42)</pre></div></div></div><div class=\"sk-parallel\"><div class=\"sk-parallel-item\"><div class=\"sk-item\"><div class=\"sk-label-container\"><div class=\"sk-label sk-toggleable\"><input class=\"sk-toggleable__control sk-hidden--visually\" id=\"sk-estimator-id-5\" type=\"checkbox\" ><label for=\"sk-estimator-id-5\" class=\"sk-toggleable__label sk-toggleable__label-arrow\">base_estimator: DecisionTreeRegressor</label><div class=\"sk-toggleable__content\"><pre>DecisionTreeRegressor(max_depth=5, random_state=42)</pre></div></div></div><div class=\"sk-serial\"><div class=\"sk-item\"><div class=\"sk-estimator sk-toggleable\"><input class=\"sk-toggleable__control sk-hidden--visually\" id=\"sk-estimator-id-6\" type=\"checkbox\" ><label for=\"sk-estimator-id-6\" class=\"sk-toggleable__label sk-toggleable__label-arrow\">DecisionTreeRegressor</label><div class=\"sk-toggleable__content\"><pre>DecisionTreeRegressor(max_depth=5, random_state=42)</pre></div></div></div></div></div></div></div></div></div></div>"
            ],
            "text/plain": [
              "AdaBoostRegressor(base_estimator=DecisionTreeRegressor(max_depth=5,\n",
              "                                                       random_state=42),\n",
              "                  n_estimators=455, random_state=42)"
            ]
          },
          "execution_count": 76,
          "metadata": {},
          "output_type": "execute_result"
        }
      ],
      "source": [
        "# # 랜덤 포레스트 모델 학습\n",
        "# model = RandomForestRegressor(random_state=CFG['SEED'])\n",
        "# model.fit(train_x, train_y)\n",
        "# Assuming 'train_x' and 'train_y' are your training data\n",
        "# gb.fit(train_x, train_y)\n",
        "# xgb.fit(train_x, train_y)  # Train the model before making predictions\n",
        "# lgb.fit(train_x, train_y)  # Fit the LGBMRegressor model\n",
        "ab.fit(train_x, train_y)  # Train the AdaBoostRegressor model\n",
        "\n"
      ]
    },
    {
      "cell_type": "code",
      "execution_count": 13,
      "metadata": {
        "id": "FCkuC4bfDGu5"
      },
      "outputs": [],
      "source": [
        "def pIC50_to_IC50(pic50_values):\n",
        "    \"\"\"Convert pIC50 values to IC50 (nM).\"\"\"\n",
        "    return 10 ** (9 - pic50_values)"
      ]
    },
    {
      "cell_type": "code",
      "execution_count": 14,
      "metadata": {
        "colab": {
          "base_uri": "https://localhost:8080/"
        },
        "id": "aI1nSmMYAd-T",
        "outputId": "ecdcd4b6-bc18-40d6-dbd7-446575042022"
      },
      "outputs": [
        {
          "output_type": "stream",
          "name": "stdout",
          "text": [
            "RMSE: 2319.6558952908035\n"
          ]
        }
      ],
      "source": [
        "# Validation 데이터로부터의 학습 모델 평가\n",
        "val_y_pred = svm.predict(val_x)\n",
        "mse = mean_squared_error(pIC50_to_IC50(val_y), pIC50_to_IC50(val_y_pred))\n",
        "rmse = np.sqrt(mse)\n",
        "\n",
        "print(f'RMSE: {rmse}')\n",
        "\n"
      ]
    },
    {
      "cell_type": "code",
      "execution_count": 15,
      "metadata": {
        "id": "h_54WmnSAeCq"
      },
      "outputs": [],
      "source": [
        "test = pd.read_csv('/content/drive/MyDrive/데이콘/test.csv')\n",
        "test['Fingerprint'] = test['Smiles'].apply(smiles_to_fingerprint)\n",
        "\n",
        "test_x = np.stack(test['Fingerprint'].values)\n",
        "\n",
        "test_y_pred = svm.predict(test_x)\n",
        "\n",
        "submit = pd.read_csv('/content/drive/MyDrive/데이콘/sample_submission.csv')\n",
        "submit['IC50_nM'] = pIC50_to_IC50(test_y_pred)\n",
        "submit.head()\n",
        "\n",
        "submit.to_csv('./baseline_submit(svm2).csv', index=False)"
      ]
    },
    {
      "cell_type": "code",
      "execution_count": null,
      "metadata": {
        "id": "Pz8aV8ATAeHN"
      },
      "outputs": [],
      "source": []
    },
    {
      "cell_type": "code",
      "execution_count": null,
      "metadata": {
        "id": "xG2BhJgbAeLi"
      },
      "outputs": [],
      "source": []
    },
    {
      "cell_type": "code",
      "execution_count": null,
      "metadata": {
        "id": "CF42CGgEAePQ"
      },
      "outputs": [],
      "source": []
    },
    {
      "cell_type": "code",
      "execution_count": null,
      "metadata": {
        "id": "rGaz8BCHAeS4"
      },
      "outputs": [],
      "source": []
    },
    {
      "cell_type": "code",
      "execution_count": null,
      "metadata": {
        "id": "tsNyqYbyAeWr"
      },
      "outputs": [],
      "source": []
    },
    {
      "cell_type": "code",
      "execution_count": null,
      "metadata": {
        "id": "dacaS5mxAea3"
      },
      "outputs": [],
      "source": []
    },
    {
      "cell_type": "code",
      "execution_count": null,
      "metadata": {
        "id": "eqINksHqAefM"
      },
      "outputs": [],
      "source": []
    }
  ],
  "metadata": {
    "accelerator": "GPU",
    "colab": {
      "gpuType": "A100",
      "machine_shape": "hm",
      "provenance": [],
      "authorship_tag": "ABX9TyPay/0IEq5VFfIcn4v/8okR",
      "include_colab_link": true
    },
    "kernelspec": {
      "display_name": "Python 3",
      "name": "python3"
    },
    "language_info": {
      "name": "python"
    }
  },
  "nbformat": 4,
  "nbformat_minor": 0
}