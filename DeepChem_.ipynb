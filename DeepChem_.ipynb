{
  "nbformat": 4,
  "nbformat_minor": 0,
  "metadata": {
    "colab": {
      "provenance": [],
      "authorship_tag": "ABX9TyOWGCKvt3nCdkjAbhSzO7Go",
      "include_colab_link": true
    },
    "kernelspec": {
      "name": "python3",
      "display_name": "Python 3"
    },
    "language_info": {
      "name": "python"
    }
  },
  "cells": [
    {
      "cell_type": "markdown",
      "metadata": {
        "id": "view-in-github",
        "colab_type": "text"
      },
      "source": [
        "<a href=\"https://colab.research.google.com/github/kimjaehwankimjaehwan/Dacon/blob/main/DeepChem_.ipynb\" target=\"_parent\"><img src=\"https://colab.research.google.com/assets/colab-badge.svg\" alt=\"Open In Colab\"/></a>"
      ]
    },
    {
      "cell_type": "code",
      "source": [
        "from google.colab import drive\n",
        "drive.mount('/content/drive')"
      ],
      "metadata": {
        "colab": {
          "base_uri": "https://localhost:8080/"
        },
        "id": "Kcc4RP7znUQa",
        "outputId": "5aaa47e5-2fa2-4ab1-b2ca-0e9f17ff0e41"
      },
      "execution_count": null,
      "outputs": [
        {
          "output_type": "stream",
          "name": "stdout",
          "text": [
            "Drive already mounted at /content/drive; to attempt to forcibly remount, call drive.mount(\"/content/drive\", force_remount=True).\n"
          ]
        }
      ]
    },
    {
      "cell_type": "code",
      "execution_count": null,
      "metadata": {
        "colab": {
          "base_uri": "https://localhost:8080/"
        },
        "id": "c3kFHaiAm81D",
        "outputId": "107f6e78-65ef-41e3-c560-5226916ea9a7"
      },
      "outputs": [
        {
          "output_type": "stream",
          "name": "stdout",
          "text": [
            "Requirement already satisfied: deepchem in /usr/local/lib/python3.10/dist-packages (2.8.0)\n",
            "Requirement already satisfied: joblib in /usr/local/lib/python3.10/dist-packages (from deepchem) (1.4.2)\n",
            "Requirement already satisfied: numpy>=1.21 in /usr/local/lib/python3.10/dist-packages (from deepchem) (1.26.4)\n",
            "Requirement already satisfied: pandas in /usr/local/lib/python3.10/dist-packages (from deepchem) (2.1.4)\n",
            "Requirement already satisfied: scikit-learn in /usr/local/lib/python3.10/dist-packages (from deepchem) (1.3.2)\n",
            "Requirement already satisfied: sympy in /usr/local/lib/python3.10/dist-packages (from deepchem) (1.13.2)\n",
            "Requirement already satisfied: scipy>=1.10.1 in /usr/local/lib/python3.10/dist-packages (from deepchem) (1.13.1)\n",
            "Requirement already satisfied: rdkit in /usr/local/lib/python3.10/dist-packages (from deepchem) (2024.3.5)\n",
            "Requirement already satisfied: python-dateutil>=2.8.2 in /usr/local/lib/python3.10/dist-packages (from pandas->deepchem) (2.8.2)\n",
            "Requirement already satisfied: pytz>=2020.1 in /usr/local/lib/python3.10/dist-packages (from pandas->deepchem) (2024.1)\n",
            "Requirement already satisfied: tzdata>=2022.1 in /usr/local/lib/python3.10/dist-packages (from pandas->deepchem) (2024.1)\n",
            "Requirement already satisfied: Pillow in /usr/local/lib/python3.10/dist-packages (from rdkit->deepchem) (9.4.0)\n",
            "Requirement already satisfied: threadpoolctl>=2.0.0 in /usr/local/lib/python3.10/dist-packages (from scikit-learn->deepchem) (3.5.0)\n",
            "Requirement already satisfied: mpmath<1.4,>=1.1.0 in /usr/local/lib/python3.10/dist-packages (from sympy->deepchem) (1.3.0)\n",
            "Requirement already satisfied: six>=1.5 in /usr/local/lib/python3.10/dist-packages (from python-dateutil>=2.8.2->pandas->deepchem) (1.16.0)\n",
            "Requirement already satisfied: rdkit in /usr/local/lib/python3.10/dist-packages (2024.3.5)\n",
            "Requirement already satisfied: numpy in /usr/local/lib/python3.10/dist-packages (from rdkit) (1.26.4)\n",
            "Requirement already satisfied: Pillow in /usr/local/lib/python3.10/dist-packages (from rdkit) (9.4.0)\n",
            "Requirement already satisfied: scikit-learn in /usr/local/lib/python3.10/dist-packages (1.3.2)\n",
            "Requirement already satisfied: numpy<2.0,>=1.17.3 in /usr/local/lib/python3.10/dist-packages (from scikit-learn) (1.26.4)\n",
            "Requirement already satisfied: scipy>=1.5.0 in /usr/local/lib/python3.10/dist-packages (from scikit-learn) (1.13.1)\n",
            "Requirement already satisfied: joblib>=1.1.1 in /usr/local/lib/python3.10/dist-packages (from scikit-learn) (1.4.2)\n",
            "Requirement already satisfied: threadpoolctl>=2.0.0 in /usr/local/lib/python3.10/dist-packages (from scikit-learn) (3.5.0)\n"
          ]
        }
      ],
      "source": [
        "!pip install deepchem\n",
        "!pip install rdkit\n",
        "!pip install scikit-learn\n"
      ]
    },
    {
      "cell_type": "code",
      "source": [
        "# !pip install keras==2.4.3\n",
        "# !pip install tensorflow==2.3.0\n",
        "# !pip uninstall -y keras tensorflow\n",
        "# !pip install tensorflow\n",
        "# !pip install tf_keras\n",
        "!pip install tensorflow==2.10.0\n",
        "!pip install deepchem==2.6.0\n",
        "\n"
      ],
      "metadata": {
        "colab": {
          "base_uri": "https://localhost:8080/",
          "height": 1000
        },
        "id": "vvVYWn7qofyH",
        "outputId": "595b8f3e-3736-4b8d-a543-0c0b7a77494f"
      },
      "execution_count": null,
      "outputs": [
        {
          "output_type": "stream",
          "name": "stdout",
          "text": [
            "Collecting tensorflow==2.10.0\n",
            "  Downloading tensorflow-2.10.0-cp310-cp310-manylinux_2_17_x86_64.manylinux2014_x86_64.whl.metadata (3.1 kB)\n",
            "Requirement already satisfied: absl-py>=1.0.0 in /usr/local/lib/python3.10/dist-packages (from tensorflow==2.10.0) (1.4.0)\n",
            "Requirement already satisfied: astunparse>=1.6.0 in /usr/local/lib/python3.10/dist-packages (from tensorflow==2.10.0) (1.6.3)\n",
            "Requirement already satisfied: flatbuffers>=2.0 in /usr/local/lib/python3.10/dist-packages (from tensorflow==2.10.0) (24.3.25)\n",
            "Collecting gast<=0.4.0,>=0.2.1 (from tensorflow==2.10.0)\n",
            "  Downloading gast-0.4.0-py3-none-any.whl.metadata (1.1 kB)\n",
            "Requirement already satisfied: google-pasta>=0.1.1 in /usr/local/lib/python3.10/dist-packages (from tensorflow==2.10.0) (0.2.0)\n",
            "Requirement already satisfied: grpcio<2.0,>=1.24.3 in /usr/local/lib/python3.10/dist-packages (from tensorflow==2.10.0) (1.64.1)\n",
            "Requirement already satisfied: h5py>=2.9.0 in /usr/local/lib/python3.10/dist-packages (from tensorflow==2.10.0) (3.11.0)\n",
            "Collecting keras<2.11,>=2.10.0 (from tensorflow==2.10.0)\n",
            "  Downloading keras-2.10.0-py2.py3-none-any.whl.metadata (1.3 kB)\n",
            "Collecting keras-preprocessing>=1.1.1 (from tensorflow==2.10.0)\n",
            "  Downloading Keras_Preprocessing-1.1.2-py2.py3-none-any.whl.metadata (1.9 kB)\n",
            "Requirement already satisfied: libclang>=13.0.0 in /usr/local/lib/python3.10/dist-packages (from tensorflow==2.10.0) (18.1.1)\n",
            "Requirement already satisfied: numpy>=1.20 in /usr/local/lib/python3.10/dist-packages (from tensorflow==2.10.0) (1.26.4)\n",
            "Requirement already satisfied: opt-einsum>=2.3.2 in /usr/local/lib/python3.10/dist-packages (from tensorflow==2.10.0) (3.3.0)\n",
            "Requirement already satisfied: packaging in /usr/local/lib/python3.10/dist-packages (from tensorflow==2.10.0) (24.1)\n",
            "Collecting protobuf<3.20,>=3.9.2 (from tensorflow==2.10.0)\n",
            "  Downloading protobuf-3.19.6-cp310-cp310-manylinux_2_17_x86_64.manylinux2014_x86_64.whl.metadata (787 bytes)\n",
            "Requirement already satisfied: setuptools in /usr/local/lib/python3.10/dist-packages (from tensorflow==2.10.0) (71.0.4)\n",
            "Requirement already satisfied: six>=1.12.0 in /usr/local/lib/python3.10/dist-packages (from tensorflow==2.10.0) (1.16.0)\n",
            "Collecting tensorboard<2.11,>=2.10 (from tensorflow==2.10.0)\n",
            "  Downloading tensorboard-2.10.1-py3-none-any.whl.metadata (1.9 kB)\n",
            "Requirement already satisfied: tensorflow-io-gcs-filesystem>=0.23.1 in /usr/local/lib/python3.10/dist-packages (from tensorflow==2.10.0) (0.37.1)\n",
            "Collecting tensorflow-estimator<2.11,>=2.10.0 (from tensorflow==2.10.0)\n",
            "  Downloading tensorflow_estimator-2.10.0-py2.py3-none-any.whl.metadata (1.3 kB)\n",
            "Requirement already satisfied: termcolor>=1.1.0 in /usr/local/lib/python3.10/dist-packages (from tensorflow==2.10.0) (2.4.0)\n",
            "Requirement already satisfied: typing-extensions>=3.6.6 in /usr/local/lib/python3.10/dist-packages (from tensorflow==2.10.0) (4.12.2)\n",
            "Requirement already satisfied: wrapt>=1.11.0 in /usr/local/lib/python3.10/dist-packages (from tensorflow==2.10.0) (1.16.0)\n",
            "Requirement already satisfied: wheel<1.0,>=0.23.0 in /usr/local/lib/python3.10/dist-packages (from astunparse>=1.6.0->tensorflow==2.10.0) (0.44.0)\n",
            "Requirement already satisfied: google-auth<3,>=1.6.3 in /usr/local/lib/python3.10/dist-packages (from tensorboard<2.11,>=2.10->tensorflow==2.10.0) (2.27.0)\n",
            "Collecting google-auth-oauthlib<0.5,>=0.4.1 (from tensorboard<2.11,>=2.10->tensorflow==2.10.0)\n",
            "  Downloading google_auth_oauthlib-0.4.6-py2.py3-none-any.whl.metadata (2.7 kB)\n",
            "Requirement already satisfied: markdown>=2.6.8 in /usr/local/lib/python3.10/dist-packages (from tensorboard<2.11,>=2.10->tensorflow==2.10.0) (3.7)\n",
            "Requirement already satisfied: requests<3,>=2.21.0 in /usr/local/lib/python3.10/dist-packages (from tensorboard<2.11,>=2.10->tensorflow==2.10.0) (2.32.3)\n",
            "Collecting tensorboard-data-server<0.7.0,>=0.6.0 (from tensorboard<2.11,>=2.10->tensorflow==2.10.0)\n",
            "  Downloading tensorboard_data_server-0.6.1-py3-none-manylinux2010_x86_64.whl.metadata (1.1 kB)\n",
            "Collecting tensorboard-plugin-wit>=1.6.0 (from tensorboard<2.11,>=2.10->tensorflow==2.10.0)\n",
            "  Downloading tensorboard_plugin_wit-1.8.1-py3-none-any.whl.metadata (873 bytes)\n",
            "Requirement already satisfied: werkzeug>=1.0.1 in /usr/local/lib/python3.10/dist-packages (from tensorboard<2.11,>=2.10->tensorflow==2.10.0) (3.0.3)\n",
            "Requirement already satisfied: cachetools<6.0,>=2.0.0 in /usr/local/lib/python3.10/dist-packages (from google-auth<3,>=1.6.3->tensorboard<2.11,>=2.10->tensorflow==2.10.0) (5.5.0)\n",
            "Requirement already satisfied: pyasn1-modules>=0.2.1 in /usr/local/lib/python3.10/dist-packages (from google-auth<3,>=1.6.3->tensorboard<2.11,>=2.10->tensorflow==2.10.0) (0.4.0)\n",
            "Requirement already satisfied: rsa<5,>=3.1.4 in /usr/local/lib/python3.10/dist-packages (from google-auth<3,>=1.6.3->tensorboard<2.11,>=2.10->tensorflow==2.10.0) (4.9)\n",
            "Requirement already satisfied: requests-oauthlib>=0.7.0 in /usr/local/lib/python3.10/dist-packages (from google-auth-oauthlib<0.5,>=0.4.1->tensorboard<2.11,>=2.10->tensorflow==2.10.0) (1.3.1)\n",
            "Requirement already satisfied: charset-normalizer<4,>=2 in /usr/local/lib/python3.10/dist-packages (from requests<3,>=2.21.0->tensorboard<2.11,>=2.10->tensorflow==2.10.0) (3.3.2)\n",
            "Requirement already satisfied: idna<4,>=2.5 in /usr/local/lib/python3.10/dist-packages (from requests<3,>=2.21.0->tensorboard<2.11,>=2.10->tensorflow==2.10.0) (3.7)\n",
            "Requirement already satisfied: urllib3<3,>=1.21.1 in /usr/local/lib/python3.10/dist-packages (from requests<3,>=2.21.0->tensorboard<2.11,>=2.10->tensorflow==2.10.0) (2.0.7)\n",
            "Requirement already satisfied: certifi>=2017.4.17 in /usr/local/lib/python3.10/dist-packages (from requests<3,>=2.21.0->tensorboard<2.11,>=2.10->tensorflow==2.10.0) (2024.7.4)\n",
            "Requirement already satisfied: MarkupSafe>=2.1.1 in /usr/local/lib/python3.10/dist-packages (from werkzeug>=1.0.1->tensorboard<2.11,>=2.10->tensorflow==2.10.0) (2.1.5)\n",
            "Requirement already satisfied: pyasn1<0.7.0,>=0.4.6 in /usr/local/lib/python3.10/dist-packages (from pyasn1-modules>=0.2.1->google-auth<3,>=1.6.3->tensorboard<2.11,>=2.10->tensorflow==2.10.0) (0.6.0)\n",
            "Requirement already satisfied: oauthlib>=3.0.0 in /usr/local/lib/python3.10/dist-packages (from requests-oauthlib>=0.7.0->google-auth-oauthlib<0.5,>=0.4.1->tensorboard<2.11,>=2.10->tensorflow==2.10.0) (3.2.2)\n",
            "Downloading tensorflow-2.10.0-cp310-cp310-manylinux_2_17_x86_64.manylinux2014_x86_64.whl (578.0 MB)\n",
            "\u001b[2K   \u001b[90m━━━━━━━━━━━━━━━━━━━━━━━━━━━━━━━━━━━━━━━━\u001b[0m \u001b[32m578.0/578.0 MB\u001b[0m \u001b[31m879.2 kB/s\u001b[0m eta \u001b[36m0:00:00\u001b[0m\n",
            "\u001b[?25hDownloading gast-0.4.0-py3-none-any.whl (9.8 kB)\n",
            "Downloading keras-2.10.0-py2.py3-none-any.whl (1.7 MB)\n",
            "\u001b[2K   \u001b[90m━━━━━━━━━━━━━━━━━━━━━━━━━━━━━━━━━━━━━━━━\u001b[0m \u001b[32m1.7/1.7 MB\u001b[0m \u001b[31m59.7 MB/s\u001b[0m eta \u001b[36m0:00:00\u001b[0m\n",
            "\u001b[?25hDownloading Keras_Preprocessing-1.1.2-py2.py3-none-any.whl (42 kB)\n",
            "\u001b[2K   \u001b[90m━━━━━━━━━━━━━━━━━━━━━━━━━━━━━━━━━━━━━━━━\u001b[0m \u001b[32m42.6/42.6 kB\u001b[0m \u001b[31m2.6 MB/s\u001b[0m eta \u001b[36m0:00:00\u001b[0m\n",
            "\u001b[?25hDownloading protobuf-3.19.6-cp310-cp310-manylinux_2_17_x86_64.manylinux2014_x86_64.whl (1.1 MB)\n",
            "\u001b[2K   \u001b[90m━━━━━━━━━━━━━━━━━━━━━━━━━━━━━━━━━━━━━━━━\u001b[0m \u001b[32m1.1/1.1 MB\u001b[0m \u001b[31m47.2 MB/s\u001b[0m eta \u001b[36m0:00:00\u001b[0m\n",
            "\u001b[?25hDownloading tensorboard-2.10.1-py3-none-any.whl (5.9 MB)\n",
            "\u001b[2K   \u001b[90m━━━━━━━━━━━━━━━━━━━━━━━━━━━━━━━━━━━━━━━━\u001b[0m \u001b[32m5.9/5.9 MB\u001b[0m \u001b[31m66.3 MB/s\u001b[0m eta \u001b[36m0:00:00\u001b[0m\n",
            "\u001b[?25hDownloading tensorflow_estimator-2.10.0-py2.py3-none-any.whl (438 kB)\n",
            "\u001b[2K   \u001b[90m━━━━━━━━━━━━━━━━━━━━━━━━━━━━━━━━━━━━━━━━\u001b[0m \u001b[32m438.7/438.7 kB\u001b[0m \u001b[31m25.6 MB/s\u001b[0m eta \u001b[36m0:00:00\u001b[0m\n",
            "\u001b[?25hDownloading google_auth_oauthlib-0.4.6-py2.py3-none-any.whl (18 kB)\n",
            "Downloading tensorboard_data_server-0.6.1-py3-none-manylinux2010_x86_64.whl (4.9 MB)\n",
            "\u001b[2K   \u001b[90m━━━━━━━━━━━━━━━━━━━━━━━━━━━━━━━━━━━━━━━━\u001b[0m \u001b[32m4.9/4.9 MB\u001b[0m \u001b[31m82.5 MB/s\u001b[0m eta \u001b[36m0:00:00\u001b[0m\n",
            "\u001b[?25hDownloading tensorboard_plugin_wit-1.8.1-py3-none-any.whl (781 kB)\n",
            "\u001b[2K   \u001b[90m━━━━━━━━━━━━━━━━━━━━━━━━━━━━━━━━━━━━━━━━\u001b[0m \u001b[32m781.3/781.3 kB\u001b[0m \u001b[31m39.6 MB/s\u001b[0m eta \u001b[36m0:00:00\u001b[0m\n",
            "\u001b[?25hInstalling collected packages: tensorboard-plugin-wit, keras, tensorflow-estimator, tensorboard-data-server, protobuf, keras-preprocessing, gast, google-auth-oauthlib, tensorboard, tensorflow\n",
            "  Attempting uninstall: keras\n",
            "    Found existing installation: keras 3.5.0\n",
            "    Uninstalling keras-3.5.0:\n",
            "      Successfully uninstalled keras-3.5.0\n",
            "  Attempting uninstall: tensorboard-data-server\n",
            "    Found existing installation: tensorboard-data-server 0.7.2\n",
            "    Uninstalling tensorboard-data-server-0.7.2:\n",
            "      Successfully uninstalled tensorboard-data-server-0.7.2\n",
            "  Attempting uninstall: protobuf\n",
            "    Found existing installation: protobuf 3.20.3\n",
            "    Uninstalling protobuf-3.20.3:\n",
            "      Successfully uninstalled protobuf-3.20.3\n",
            "  Attempting uninstall: gast\n",
            "    Found existing installation: gast 0.6.0\n",
            "    Uninstalling gast-0.6.0:\n",
            "      Successfully uninstalled gast-0.6.0\n",
            "  Attempting uninstall: google-auth-oauthlib\n",
            "    Found existing installation: google-auth-oauthlib 1.2.1\n",
            "    Uninstalling google-auth-oauthlib-1.2.1:\n",
            "      Successfully uninstalled google-auth-oauthlib-1.2.1\n",
            "  Attempting uninstall: tensorboard\n",
            "    Found existing installation: tensorboard 2.17.0\n",
            "    Uninstalling tensorboard-2.17.0:\n",
            "      Successfully uninstalled tensorboard-2.17.0\n",
            "  Attempting uninstall: tensorflow\n",
            "    Found existing installation: tensorflow 2.17.0\n",
            "    Uninstalling tensorflow-2.17.0:\n",
            "      Successfully uninstalled tensorflow-2.17.0\n",
            "\u001b[31mERROR: pip's dependency resolver does not currently take into account all the packages that are installed. This behaviour is the source of the following dependency conflicts.\n",
            "cudf-cu12 24.4.1 requires protobuf<5,>=3.20, but you have protobuf 3.19.6 which is incompatible.\n",
            "google-cloud-aiplatform 1.63.0 requires protobuf!=4.21.0,!=4.21.1,!=4.21.2,!=4.21.3,!=4.21.4,!=4.21.5,<6.0.0dev,>=3.20.2, but you have protobuf 3.19.6 which is incompatible.\n",
            "google-cloud-bigquery-connection 1.15.5 requires protobuf!=4.21.0,!=4.21.1,!=4.21.2,!=4.21.3,!=4.21.4,!=4.21.5,<6.0.0dev,>=3.20.2, but you have protobuf 3.19.6 which is incompatible.\n",
            "google-cloud-bigtable 2.26.0 requires protobuf!=4.21.0,!=4.21.1,!=4.21.2,!=4.21.3,!=4.21.4,!=4.21.5,<6.0.0dev,>=3.20.2, but you have protobuf 3.19.6 which is incompatible.\n",
            "google-cloud-functions 1.16.5 requires protobuf!=4.21.0,!=4.21.1,!=4.21.2,!=4.21.3,!=4.21.4,!=4.21.5,<6.0.0dev,>=3.20.2, but you have protobuf 3.19.6 which is incompatible.\n",
            "google-cloud-iam 2.15.2 requires protobuf!=4.21.0,!=4.21.1,!=4.21.2,!=4.21.3,!=4.21.4,!=4.21.5,<6.0.0dev,>=3.20.2, but you have protobuf 3.19.6 which is incompatible.\n",
            "google-cloud-language 2.13.4 requires protobuf!=4.21.0,!=4.21.1,!=4.21.2,!=4.21.3,!=4.21.4,!=4.21.5,<6.0.0dev,>=3.20.2, but you have protobuf 3.19.6 which is incompatible.\n",
            "google-cloud-pubsub 2.23.0 requires protobuf!=4.21.0,!=4.21.1,!=4.21.2,!=4.21.3,!=4.21.4,!=4.21.5,<6.0.0dev,>=3.20.2, but you have protobuf 3.19.6 which is incompatible.\n",
            "google-cloud-resource-manager 1.12.5 requires protobuf!=4.21.0,!=4.21.1,!=4.21.2,!=4.21.3,!=4.21.4,!=4.21.5,<6.0.0dev,>=3.20.2, but you have protobuf 3.19.6 which is incompatible.\n",
            "google-cloud-translate 3.15.5 requires protobuf!=4.21.0,!=4.21.1,!=4.21.2,!=4.21.3,!=4.21.4,!=4.21.5,<6.0.0dev,>=3.20.2, but you have protobuf 3.19.6 which is incompatible.\n",
            "googleapis-common-protos 1.63.2 requires protobuf!=3.20.0,!=3.20.1,!=4.21.1,!=4.21.2,!=4.21.3,!=4.21.4,!=4.21.5,<6.0.0.dev0,>=3.20.2, but you have protobuf 3.19.6 which is incompatible.\n",
            "grpc-google-iam-v1 0.13.1 requires protobuf!=4.21.1,!=4.21.2,!=4.21.3,!=4.21.4,!=4.21.5,<6.0.0dev,>=3.20.2, but you have protobuf 3.19.6 which is incompatible.\n",
            "pandas-gbq 0.23.1 requires google-auth-oauthlib>=0.7.0, but you have google-auth-oauthlib 0.4.6 which is incompatible.\n",
            "tensorflow-datasets 4.9.6 requires protobuf>=3.20, but you have protobuf 3.19.6 which is incompatible.\n",
            "tensorflow-metadata 1.15.0 requires protobuf<4.21,>=3.20.3; python_version < \"3.11\", but you have protobuf 3.19.6 which is incompatible.\n",
            "tf-keras 2.17.0 requires tensorflow<2.18,>=2.17, but you have tensorflow 2.10.0 which is incompatible.\u001b[0m\u001b[31m\n",
            "\u001b[0mSuccessfully installed gast-0.4.0 google-auth-oauthlib-0.4.6 keras-2.10.0 keras-preprocessing-1.1.2 protobuf-3.19.6 tensorboard-2.10.1 tensorboard-data-server-0.6.1 tensorboard-plugin-wit-1.8.1 tensorflow-2.10.0 tensorflow-estimator-2.10.0\n"
          ]
        },
        {
          "output_type": "display_data",
          "data": {
            "application/vnd.colab-display-data+json": {
              "pip_warning": {
                "packages": [
                  "gast",
                  "google",
                  "keras",
                  "tensorboard",
                  "tensorflow"
                ]
              },
              "id": "febc4d1667ba4bebb559d8e143868864"
            }
          },
          "metadata": {}
        },
        {
          "output_type": "stream",
          "name": "stdout",
          "text": [
            "\u001b[31mERROR: Ignored the following versions that require a different python version: 2.6.0.dev20220112162333 Requires-Python >=3.7,<3.10; 2.6.0.dev20220114040838 Requires-Python >=3.7,<3.10; 2.6.0.dev20220118010103 Requires-Python >=3.7,<3.10; 2.6.0.dev20220118135955 Requires-Python >=3.7,<3.10; 2.6.1 Requires-Python >=3.7,<3.10; 2.6.1.dev20220118213325 Requires-Python >=3.7,<3.10; 2.6.1.dev20220121040525 Requires-Python >=3.7,<3.10; 2.6.1.dev20220121191633 Requires-Python >=3.7,<3.10; 2.6.1.dev20220127040719 Requires-Python >=3.7,<3.10; 2.6.1.dev20220127201742 Requires-Python >=3.7,<3.10; 2.6.1.dev20220208165000 Requires-Python >=3.7,<3.10; 2.6.1.dev20220210194849 Requires-Python >=3.7,<3.10; 2.6.1.dev20220211203047 Requires-Python >=3.7,<3.10; 2.6.1.dev20220218060535 Requires-Python >=3.7,<3.10; 2.6.1.dev20220218194027 Requires-Python >=3.7,<3.10; 2.6.1.dev20220219162715 Requires-Python >=3.7,<3.10; 2.6.1.dev20220222165950 Requires-Python >=3.7,<3.10; 2.6.1.dev20220225175824 Requires-Python >=3.7,<3.10; 2.6.1.dev20220227101855 Requires-Python >=3.7,<3.10; 2.6.1.dev20220227151313 Requires-Python >=3.7,<3.10; 2.6.1.dev20220302165448 Requires-Python >=3.7,<3.10; 2.6.1.dev20220304075058 Requires-Python >=3.7,<3.10; 2.6.1.dev20220308000048 Requires-Python >=3.7,<3.10; 2.6.1.dev20220308161659 Requires-Python >=3.7,<3.10; 2.6.1.dev20220311045711 Requires-Python >=3.7,<3.10; 2.6.1.dev20220313143613 Requires-Python >=3.7,<3.10; 2.6.1.dev20220315063821 Requires-Python >=3.7,<3.10; 2.6.1.dev20220315094515 Requires-Python >=3.7,<3.10; 2.6.1.dev20220318165648 Requires-Python >=3.7,<3.10; 2.6.1.dev20220318180307 Requires-Python >=3.7,<3.10; 2.6.1.dev20220321161730 Requires-Python >=3.7,<3.10; 2.6.1.dev20220321180346 Requires-Python >=3.7,<3.10; 2.6.1.dev20220404084345 Requires-Python >=3.7,<3.10; 2.6.1.dev20220408022220 Requires-Python >=3.7,<3.10; 2.6.1.dev20220408031528 Requires-Python >=3.7,<3.10; 2.6.1.dev20220422173022 Requires-Python >=3.7,<3.10; 2.6.1.dev20220422185142 Requires-Python >=3.7,<3.10; 2.6.1.dev20220422203117 Requires-Python >=3.7,<3.10; 2.6.1.dev20220521111258 Requires-Python >=3.7,<3.10; 2.6.1.dev20220522043410 Requires-Python >=3.7,<3.10; 2.6.1.dev20220527180621 Requires-Python >=3.7,<3.10; 2.6.1.dev20220601053535 Requires-Python >=3.7,<3.10; 2.6.1.dev20220603100354 Requires-Python >=3.7,<3.10; 2.6.1.dev20220604054513 Requires-Python >=3.7,<3.10; 2.6.1.dev20220604074442 Requires-Python >=3.7,<3.10; 2.6.1.dev20220604123021 Requires-Python >=3.7,<3.10; 2.6.1.dev20220606165419 Requires-Python >=3.7,<3.10; 2.6.1.dev20220610173758 Requires-Python >=3.7,<3.10; 2.6.1.dev20220610173831 Requires-Python >=3.7,<3.10; 2.6.1.dev20220613223736 Requires-Python >=3.7,<3.10; 2.6.1.dev20220614070052 Requires-Python >=3.7,<3.10; 2.6.1.dev20220614151602 Requires-Python >=3.7,<3.10; 2.6.1.dev20220617104814 Requires-Python >=3.7,<3.10; 2.6.1.dev20220617151155 Requires-Python >=3.7,<3.10; 2.6.1.dev20220617195637 Requires-Python >=3.7,<3.10; 2.6.1.dev20220622181246 Requires-Python >=3.7,<3.10; 2.6.1.dev20220628094821 Requires-Python >=3.7,<3.10; 2.6.1.dev20220628165058 Requires-Python >=3.7,<3.10; 2.6.1.dev20220628194011 Requires-Python >=3.7,<3.10; 2.6.1.dev20220630161820 Requires-Python >=3.7,<3.10; 2.6.1.dev20220701023147 Requires-Python >=3.7,<3.10; 2.6.1.dev20220701031808 Requires-Python >=3.7,<3.10; 2.6.1.dev20220701165751 Requires-Python >=3.7,<3.10; 2.6.1.dev20220702162632 Requires-Python >=3.7,<3.10; 2.6.1.dev20220705162722 Requires-Python >=3.7,<3.10; 2.6.1.dev20220705191132 Requires-Python >=3.7,<3.10; 2.6.1.dev20220706044611 Requires-Python >=3.7,<3.10; 2.6.1.dev20220706163643 Requires-Python >=3.7,<3.10; 2.6.1.dev20220707192045 Requires-Python >=3.7,<3.10; 2.6.1.dev20220708070617 Requires-Python >=3.7,<3.10; 2.6.1.dev20220708083922 Requires-Python >=3.7,<3.10; 2.6.1.dev20220708160856 Requires-Python >=3.7,<3.10; 2.6.1.dev20220710185607 Requires-Python >=3.7,<3.10; 2.6.1.dev20220711161617 Requires-Python >=3.7,<3.10; 2.6.1.dev20220712155923 Requires-Python >=3.7,<3.10; 2.6.1.dev20220712164209 Requires-Python >=3.7,<3.10; 2.6.1.dev20220719033603 Requires-Python >=3.7,<3.10; 2.6.1.dev20220719164131 Requires-Python >=3.7,<3.10; 2.6.1.dev20220725165553 Requires-Python >=3.7,<3.10; 2.6.1.dev20220726034942 Requires-Python >=3.7,<3.10; 2.6.1.dev20220726064601 Requires-Python >=3.7,<3.10; 2.6.1.dev20220726064604 Requires-Python >=3.7,<3.10; 2.6.1.dev20220726172848 Requires-Python >=3.7,<3.10; 2.6.1.dev20220726181040 Requires-Python >=3.7,<3.10; 2.6.1.dev20220728170954 Requires-Python >=3.7,<3.10; 2.6.1.dev20220729224827 Requires-Python >=3.7,<3.10; 2.6.1.dev20220731183342 Requires-Python >=3.7,<3.10; 2.6.1.dev20220802165209 Requires-Python >=3.7,<3.10; 2.6.1.dev20220805061923 Requires-Python >=3.7,<3.10; 2.6.1.dev20220805165709 Requires-Python >=3.7,<3.10; 2.6.1.dev20220808184514 Requires-Python >=3.7,<3.10; 2.6.1.dev20220808203535 Requires-Python >=3.7,<3.10; 2.6.1.dev20220808203613 Requires-Python >=3.7,<3.10; 2.6.1.dev20220809051924 Requires-Python >=3.7,<3.10; 2.6.1.dev20220810054029 Requires-Python >=3.7,<3.10; 2.6.1.dev20220815161544 Requires-Python >=3.7,<3.10; 2.6.1.dev20220815165331 Requires-Python >=3.7,<3.10; 2.6.1.dev20220821180815 Requires-Python >=3.7,<3.10; 2.6.1.dev20220822182128 Requires-Python >=3.7,<3.10; 2.6.1.dev20220823161652 Requires-Python >=3.7,<3.10; 2.6.1.dev20220825105734 Requires-Python >=3.7,<3.10; 2.6.1.dev20220825205213 Requires-Python >=3.7,<3.10; 2.6.1.dev20220826024553 Requires-Python >=3.7,<3.10; 2.6.1.dev20220830162129 Requires-Python >=3.7,<3.10; 2.6.1.dev20220902195259 Requires-Python >=3.7,<3.10; 2.6.1.dev20220903083523 Requires-Python >=3.7,<3.10; 2.6.1.dev20220903102434 Requires-Python >=3.7,<3.10; 2.6.1.dev20220903134143 Requires-Python >=3.7,<3.10; 2.6.1.dev20220906165036 Requires-Python >=3.7,<3.10; 2.6.1.dev20220909142012 Requires-Python >=3.7,<3.10; 2.6.1.dev20220912080347 Requires-Python >=3.7,<3.10; 2.6.2.dev20220914075531 Requires-Python >=3.7,<3.10; 2.6.2.dev20220915143259 Requires-Python >=3.7,<3.10; 2.6.2.dev20220930024147 Requires-Python >=3.7,<3.10; 2.6.2.dev20220930084520 Requires-Python >=3.7,<3.10; 2.6.2.dev20221004063301 Requires-Python >=3.7,<3.10\u001b[0m\u001b[31m\n",
            "\u001b[0m\u001b[31mERROR: Could not find a version that satisfies the requirement deepchem==2.6.0 (from versions: 1.3.2.dev290, 2.1.1.dev353, 2.2.1.dev54, 2.4.0.dev20201222014716, 2.4.0.dev20210113212109, 2.4.0rc1.dev20200708205928, 2.4.0rc1.dev20200708205951, 2.4.0rc1.dev20200708211059, 2.4.0rc1.dev20200708211151, 2.4.0rc1.dev20200709010150, 2.4.0rc1.dev20200709010314, 2.4.0rc1.dev20200709182005, 2.4.0rc1.dev20200709182112, 2.4.0rc1.dev20200709183605, 2.4.0rc1.dev20200709183817, 2.4.0rc1.dev20200709184634, 2.4.0rc1.dev20200709185043, 2.4.0rc1.dev20200709200334, 2.4.0rc1.dev20200710064203, 2.4.0rc1.dev20200710234802, 2.4.0rc1.dev20200712004620, 2.4.0rc1.dev20200715193558, 2.4.0rc1.dev20200717194639, 2.4.0rc1.dev20200717220755, 2.4.0rc1.dev20200718011519, 2.4.0rc1.dev20200718032028, 2.4.0rc1.dev20200719004435, 2.4.0rc1.dev20200719004625, 2.4.0rc1.dev20200719181940, 2.4.0rc1.dev20200720030256, 2.4.0rc1.dev20200721012215, 2.4.0rc1.dev20200721032032, 2.4.0rc1.dev20200721181213, 2.4.0rc1.dev20200722192251, 2.4.0rc1.dev20200722195536, 2.4.0rc1.dev20200724195656, 2.4.0rc1.dev20200725003355, 2.4.0rc1.dev20200728183942, 2.4.0rc1.dev20200730200850, 2.4.0rc1.dev20200731011512, 2.4.0rc1.dev20200731034122, 2.4.0rc1.dev20200805002406, 2.4.0rc1.dev20200805054153, 2.4.0rc1.dev20200811032832, 2.4.0rc1.dev20200812180319, 2.4.0rc1.dev20200812180707, 2.4.0rc1.dev20200812224024, 2.4.0rc1.dev20200813192017, 2.4.0rc1.dev20200813220227, 2.4.0rc1.dev20200814025802, 2.4.0rc1.dev20200814033243, 2.4.0rc1.dev20200814042408, 2.4.0rc1.dev20200816062845, 2.4.0rc1.dev20200817193557, 2.4.0rc1.dev20200817224037, 2.4.0rc1.dev20200818064901, 2.4.0rc1.dev20200818075155, 2.4.0rc1.dev20200818090728, 2.4.0rc1.dev20200819013302, 2.4.0rc1.dev20200819015415, 2.4.0rc1.dev20200819172355, 2.4.0rc1.dev20200819233934, 2.4.0rc1.dev20200820180452, 2.4.0rc1.dev20200826012110, 2.4.0rc1.dev20200826035638, 2.4.0rc1.dev20200826163422, 2.4.0rc1.dev20200826231445, 2.4.0rc1.dev20200828031043, 2.4.0rc1.dev20200831233747, 2.4.0rc1.dev20200901190200, 2.4.0rc1.dev20200902010504, 2.4.0rc1.dev20200902023007, 2.4.0rc1.dev20200903214707, 2.4.0rc1.dev20200904014800, 2.4.0rc1.dev20200904030700, 2.4.0rc1.dev20200904195017, 2.4.0rc1.dev20200906214246, 2.4.0rc1.dev20200907022438, 2.4.0rc1.dev20200909031818, 2.4.0rc1.dev20200909041148, 2.4.0rc1.dev20200909184016, 2.4.0rc1.dev20200909195811, 2.4.0rc1.dev20200909205926, 2.4.0rc1.dev20200910002520, 2.4.0rc1.dev20200910013039, 2.4.0rc1.dev20200912195821, 2.4.0rc1.dev20200914000725, 2.4.0rc1.dev20200916050731, 2.4.0rc1.dev20200917030642, 2.4.0rc1.dev20200917031936, 2.4.0rc1.dev20200918064932, 2.4.0rc1.dev20200919093012, 2.4.0rc1.dev20200921195626, 2.4.0rc1.dev20200923221715, 2.4.0rc1.dev20200924211935, 2.4.0rc1.dev20200925070043, 2.4.0rc1.dev20200925072719, 2.4.0rc1.dev20200928013711, 2.4.0rc1.dev20200930022604, 2.4.0rc1.dev20201001095127, 2.4.0rc1.dev20201002163723, 2.4.0rc1.dev20201003073226, 2.4.0rc1.dev20201005210217, 2.4.0rc1.dev20201013175333, 2.4.0rc1.dev20201014075001, 2.4.0rc1.dev20201014172403, 2.4.0rc1.dev20201015023225, 2.4.0rc1.dev20201015062421, 2.4.0rc1.dev20201015160122, 2.4.0rc1.dev20201016075247, 2.4.0rc1.dev20201016182013, 2.4.0rc1.dev20201019042605, 2.4.0rc1.dev20201019065345, 2.4.0rc1.dev20201020212350, 2.4.0rc1.dev20201021050120, 2.4.0rc1.dev20201021082758, 2.4.0rc1.dev20201021184017, 2.4.0rc1.dev20201102042517, 2.4.0rc1.dev20201103011734, 2.4.0rc1.dev20201103040434, 2.4.0rc1.dev20201103082222, 2.4.0rc1.dev20201104023637, 2.4.0rc1.dev20201104084804, 2.4.0rc1.dev20201105213837, 2.4.0rc1.dev20201110082157, 2.4.0rc1.dev20201116174536, 2.4.0rc1.dev20201119053907, 2.4.0rc1.dev20201222075302, 2.4.0rc1.dev20201222223733, 2.4.0rc1.dev20201228205658, 2.4.0rc1.dev20201228212633, 2.4.0rc1.dev20201229023237, 2.4.0rc1.dev20201229035111, 2.4.0rc1.dev20210112201211, 2.4.0rc1.dev20210113000329, 2.4.0, 2.5.0.dev20210116000740, 2.5.0.dev20210119001131, 2.5.0.dev20210119010428, 2.5.0.dev20210120055726, 2.5.0.dev20210127035303, 2.5.0.dev20210127210152, 2.5.0.dev20210129140048, 2.5.0.dev20210201011251, 2.5.0.dev20210201011255, 2.5.0.dev20210202234828, 2.5.0.dev20210205220327, 2.5.0.dev20210205230509, 2.5.0.dev20210212224011, 2.5.0.dev20210215195847, 2.5.0.dev20210219040220, 2.5.0.dev20210219192147, 2.5.0.dev20210223172956, 2.5.0.dev20210223204451, 2.5.0.dev20210223210920, 2.5.0.dev20210225085350, 2.5.0.dev20210225193855, 2.5.0.dev20210226211247, 2.5.0.dev20210302063615, 2.5.0.dev20210303145015, 2.5.0.dev20210304172031, 2.5.0.dev20210305030924, 2.5.0.dev20210305155150, 2.5.0.dev20210305190040, 2.5.0.dev20210309230035, 2.5.0.dev20210311172235, 2.5.0.dev20210311184720, 2.5.0.dev20210317060500, 2.5.0.dev20210318030955, 2.5.0, 2.6.0.dev0, 2.6.0.dev20210322202625, 2.6.0.dev20210322203128, 2.6.0.dev20210323214627, 2.6.0.dev20210402174312, 2.6.0.dev20210403043508, 2.6.0.dev20210405185203, 2.6.0.dev20210406153857, 2.6.0.dev20210406175917, 2.6.0.dev20210406183012, 2.6.0.dev20210406183355, 2.6.0.dev20210413013855, 2.6.0.dev20210413015123, 2.6.0.dev20210413054825, 2.6.0.dev20210413224817, 2.6.0.dev20210413230308, 2.6.0.dev20210419031448, 2.6.0.dev20210420005007, 2.6.0.dev20210420005019, 2.6.0.dev20210420051446, 2.6.0.dev20210420051711, 2.6.0.dev20210421035304, 2.6.0.dev20210421080146, 2.6.0.dev20210429190320, 2.6.0.dev20210503195703, 2.6.0.dev20210505005111, 2.6.0.dev20210505221048, 2.6.0.dev20210509222206, 2.6.0.dev20210509222234, 2.6.0.dev20210513153051, 2.6.0.dev20210520034915, 2.6.0.dev20210604190936, 2.6.0.dev20210608172430, 2.6.0.dev20210609203819, 2.6.0.dev20210611033105, 2.6.0.dev20210613203243, 2.6.0.dev20210621182646, 2.6.0.dev20210622012521, 2.6.0.dev20210622215124, 2.6.0.dev20210623160919, 2.6.0.dev20210625022800, 2.6.0.dev20210625220933, 2.6.0.dev20210625230134, 2.6.0.dev20210626075048, 2.6.0.dev20210628014613, 2.6.0.dev20210630233604, 2.6.0.dev20210702031237, 2.6.0.dev20210702055206, 2.6.0.dev20210702060831, 2.6.0.dev20210702083106, 2.6.0.dev20210708120556, 2.6.0.dev20210708140526, 2.6.0.dev20210709011515, 2.6.0.dev20210709174402, 2.6.0.dev20210709202849, 2.6.0.dev20210709212753, 2.6.0.dev20210709231522, 2.6.0.dev20210711013525, 2.6.0.dev20210713174101, 2.6.0.dev20210714172010, 2.6.0.dev20210716180649, 2.6.0.dev20210716192811, 2.6.0.dev20210719222427, 2.6.0.dev20210721161151, 2.6.0.dev20210722163022, 2.6.0.dev20210722182029, 2.6.0.dev20210722182107, 2.6.0.dev20210725031202, 2.6.0.dev20210725031231, 2.6.0.dev20210725040533, 2.6.0.dev20210728041333, 2.6.0.dev20210728041408, 2.6.0.dev20210729190748, 2.6.0.dev20210730172923, 2.6.0.dev20210801233545, 2.6.0.dev20210802175617, 2.6.0.dev20210803161803, 2.6.0.dev20210803204000, 2.6.0.dev20210803213925, 2.6.0.dev20210804165636, 2.6.0.dev20210805163520, 2.6.0.dev20210806192138, 2.6.0.dev20210806211141, 2.6.0.dev20210806230138, 2.6.0.dev20210812000701, 2.6.0.dev20210812035208, 2.6.0.dev20210812035231, 2.6.0.dev20210823200941, 2.6.0.dev20210824181102, 2.6.0.dev20210824192907, 2.6.0.dev20210829042649, 2.6.0.dev20210901161559, 2.6.0.dev20210910040306, 2.6.0.dev20210911195147, 2.6.0.dev20210915162527, 2.6.0.dev20210917001716, 2.6.0.dev20210920000351, 2.6.0.dev20210921163551, 2.6.0.dev20210921173741, 2.6.0.dev20210924024956, 2.6.0.dev20210924223259, 2.6.0.dev20211007042252, 2.6.0.dev20211015024528, 2.6.0.dev20211015031405, 2.6.0.dev20211015203707, 2.6.0.dev20211018024044, 2.6.0.dev20211018031144, 2.6.0.dev20211018190358, 2.6.0.dev20211022221351, 2.6.0.dev20211026025915, 2.6.0.dev20211026170651, 2.6.0.dev20211026183818, 2.6.0.dev20211102155428, 2.6.0.dev20211104174343, 2.6.0.dev20211105180050, 2.6.0.dev20211109164549, 2.6.0.dev20211111185736, 2.6.0.dev20211112023051, 2.6.0.dev20211112035141, 2.6.0.dev20211117164926, 2.6.0.dev20211119161201, 2.6.0.dev20211123174604, 2.6.0.dev20211126201500, 2.6.0.dev20211126201516, 2.6.0.dev20211130164350, 2.6.0.dev20211204050717, 2.6.0.dev20211207173323, 2.6.0.dev20211215044436, 2.6.0.dev20211215231244, 2.6.0.dev20211215231347, 2.6.0.dev20220105090622, 2.6.0.dev20220106165042, 2.6.0.dev20220106211717, 2.6.0.dev20220107234143, 2.6.0.dev20220108140134, 2.6.0.dev20220108174401, 2.6.0.dev20220109182801, 2.6.0.dev20220112042427, 2.6.2.dev20221016050809, 2.6.2.dev20221016071913, 2.6.2.dev20221016092241, 2.6.2.dev20221021095322, 2.6.2.dev20221030101451, 2.6.2.dev20221110084045, 2.6.2.dev20221111184512, 2.6.2.dev20221114160606, 2.6.2.dev20221116163918, 2.7.0.dev20221129153146, 2.7.0.dev20221201135651, 2.7.1.dev20221201135956, 2.7.1.dev20221212072420, 2.7.1.dev20221213090949, 2.7.1.dev20221221172129, 2.7.1.dev20221223061341, 2.7.1.dev20221223154055, 2.7.1.dev20221227155317, 2.7.1.dev20221230033622, 2.7.1.dev20230104133915, 2.7.1.dev20230105124909, 2.7.1.dev20230109140627, 2.7.1.dev20230109161424, 2.7.1.dev20230109165127, 2.7.1.dev20230109182752, 2.7.1.dev20230110175633, 2.7.1.dev20230110190140, 2.7.1.dev20230111162050, 2.7.1.dev20230112154243, 2.7.1.dev20230117135521, 2.7.1.dev20230117135556, 2.7.1.dev20230117171504, 2.7.1.dev20230118161529, 2.7.1.dev20230120133430, 2.7.1.dev20230120151222, 2.7.1.dev20230123154016, 2.7.1.dev20230124131245, 2.7.1.dev20230124151000, 2.7.1.dev20230124151032, 2.7.1.dev20230127053053, 2.7.1.dev20230127053137, 2.7.1, 2.7.2.dev20230128104708, 2.7.2.dev20230129172130, 2.7.2.dev20230129191849, 2.7.2.dev20230201124632, 2.7.2.dev20230201132210, 2.7.2.dev20230201162736, 2.7.2.dev20230202112109, 2.7.2.dev20230202144040, 2.7.2.dev20230202163124, 2.7.2.dev20230203154334, 2.7.2.dev20230203193045, 2.7.2.dev20230206140118, 2.7.2.dev20230209144634, 2.7.2.dev20230213153106, 2.7.2.dev20230218044322, 2.7.2.dev20230221142801, 2.7.2.dev20230222154056, 2.7.2.dev20230222164445, 2.7.2.dev20230222171833, 2.7.2.dev20230224052732, 2.7.2.dev20230307034858, 2.7.2.dev20230307174949, 2.7.2.dev20230310195717, 2.7.2.dev20230315044441, 2.7.2.dev20230315053050, 2.7.2.dev20230317033347, 2.7.2.dev20230317040057, 2.7.2.dev20230317040129, 2.7.2.dev20230320102033, 2.7.2.dev20230320190118, 2.7.2.dev20230321030048, 2.7.2.dev20230321065501, 2.7.2.dev20230322134729, 2.7.2.dev20230323041947, 2.7.2.dev20230323150057, 2.7.2.dev20230323152026, 2.7.2.dev20230323152050, 2.7.2.dev20230323230015, 2.7.2.dev20230324014405, 2.7.2.dev20230327094751, 2.7.2.dev20230327223341, 2.7.2.dev20230327223356, 2.7.2.dev20230327233723, 2.7.2.dev20230328040108, 2.7.2.dev20230328144301, 2.7.2.dev20230328171703, 2.7.2.dev20230328191100, 2.7.2.dev20230329073502, 2.7.2.dev20230329140846, 2.7.2.dev20230329170914, 2.7.2.dev20230329175416, 2.7.2.dev20230329222730, 2.7.2.dev20230329235727, 2.7.2.dev20230331112515, 2.7.2.dev20230331181619, 2.7.2.dev20230402021249, 2.7.2.dev20230405054835, 2.7.2.dev20230405090400, 2.7.2.dev20230405090430, 2.7.2.dev20230405121016, 2.7.2.dev20230405151620, 2.7.2.dev20230405200145, 2.7.2.dev20230406001018, 2.7.2.dev20230406001048, 2.7.2.dev20230410162347, 2.7.2.dev20230410172816, 2.7.2.dev20230411091951, 2.7.2.dev20230412020314, 2.7.2.dev20230418170211, 2.7.2.dev20230419152231, 2.7.2.dev20230419161626, 2.7.2.dev20230425183800, 2.7.2.dev20230428125349, 2.7.2.dev20230501165711, 2.7.2.dev20230501165750, 2.7.2.dev20230502144838, 2.7.2.dev20230503173925, 2.7.2.dev20230503185312, 2.7.2.dev20230503185437, 2.7.2.dev20230504173825, 2.7.2.dev20230505163452, 2.7.2.dev20230508181654, 2.7.2.dev20230509191324, 2.7.2.dev20230510171000, 2.7.2.dev20230511152430, 2.7.2.dev20230512194808, 2.7.2.dev20230512194842, 2.7.2.dev20230512194912, 2.7.2.dev20230516153510, 2.7.2.dev20230516212408, 2.7.2.dev20230518165958, 2.7.2.dev20230518203135, 2.7.2.dev20230518203308, 2.7.2.dev20230518203343, 2.7.2.dev20230523160930, 2.7.2.dev20230523163554, 2.7.2.dev20230524152016, 2.7.2.dev20230526200256, 2.7.2.dev20230531141025, 2.7.2.dev20230605194859, 2.7.2.dev20230605194909, 2.7.2.dev20230607173430, 2.7.2.dev20230608122926, 2.7.2.dev20230609153745, 2.7.2.dev20230619133526, 2.7.2.dev20230619133609, 2.7.2.dev20230619171202, 2.7.2.dev20230620050706, 2.7.2.dev20230622192421, 2.7.2.dev20230626172011, 2.7.2.dev20230627173213, 2.7.2.dev20230627173354, 2.7.2.dev20230627202443, 2.7.2.dev20230627231842, 2.7.2.dev20230630163806, 2.7.2.dev20230703190520, 2.7.2.dev20230703190556, 2.7.2.dev20230703190634, 2.7.2.dev20230703203150, 2.7.2.dev20230705185852, 2.7.2.dev20230705185926, 2.7.2.dev20230705190007, 2.7.2.dev20230705190043, 2.7.2.dev20230707051842, 2.7.2.dev20230710190635, 2.7.2.dev20230711044341, 2.7.2.dev20230712172709, 2.7.2.dev20230712172740, 2.7.2.dev20230712172748, 2.7.2.dev20230717161942, 2.7.2.dev20230717164212, 2.7.2.dev20230719055234, 2.7.2.dev20230724021110, 2.7.2.dev20230725234234, 2.7.2.dev20230726121907, 2.7.2.dev20230726122048, 2.7.2.dev20230727235143, 2.7.2.dev20230728002356, 2.7.2.dev20230730200710, 2.7.2.dev20230803071432, 2.7.2.dev20230803163359, 2.7.2.dev20230809161555, 2.7.2.dev20230809172944, 2.7.2.dev20230810062656, 2.7.2.dev20230811215405, 2.7.2.dev20230814175150, 2.7.2.dev20230814192548, 2.7.2.dev20230814192559, 2.7.2.dev20230816184437, 2.7.2.dev20230817104439, 2.7.2.dev20230820045955, 2.7.2.dev20230823171234, 2.7.2.dev20230823192230, 2.7.2.dev20230825195032, 2.7.2.dev20230825195110, 2.7.2.dev20230830051748, 2.7.2.dev20230830060951, 2.7.2.dev20230830192535, 2.7.2.dev20230831064108, 2.7.2.dev20230831192351, 2.7.2.dev20230904193018, 2.7.2.dev20230908161342, 2.7.2.dev20230908173240, 2.7.2.dev20230908173320, 2.7.2.dev20230913163802, 2.7.2.dev20230914191546, 2.7.2.dev20230918011325, 2.7.2.dev20230918163339, 2.7.2.dev20230919152433, 2.7.2.dev20230919233001, 2.7.2.dev20230922163716, 2.7.2.dev20230923225129, 2.7.2.dev20230924165828, 2.7.2.dev20230925175208, 2.7.2.dev20230927071136, 2.7.2.dev20230929103943, 2.7.2.dev20231002184238, 2.7.2.dev20231002184256, 2.7.2.dev20231004184643, 2.7.2.dev20231004184645, 2.7.2.dev20231005161746, 2.7.2.dev20231006181943, 2.7.2.dev20231008201203, 2.7.2.dev20231009204642, 2.7.2.dev20231011182426, 2.7.2.dev20231011182505, 2.7.2.dev20231016172651, 2.7.2.dev20231016172654, 2.7.2.dev20231017193228, 2.7.2.dev20231017195538, 2.7.2.dev20231020164231, 2.7.2.dev20231020164241, 2.7.2.dev20231025032808, 2.7.2.dev20231025185201, 2.7.2.dev20231025185236, 2.7.2.dev20231027163500, 2.7.2.dev20231028035122, 2.7.2.dev20231028201805, 2.7.2.dev20231028205055, 2.7.2.dev20231101050522, 2.7.2.dev20231101052310, 2.7.2.dev20231102073536, 2.7.2.dev20231102073617, 2.7.2.dev20231103035437, 2.7.2.dev20231103195036, 2.7.2.dev20231103201630, 2.7.2.dev20231105033457, 2.7.2.dev20231106220236, 2.7.2.dev20231106233450, 2.7.2.dev20231106233548, 2.7.2.dev20231106233632, 2.7.2.dev20231106233729, 2.7.2.dev20231108172309, 2.7.2.dev20231108174344, 2.7.2.dev20231108181641, 2.7.2.dev20231108203611, 2.7.2.dev20231110055545, 2.7.2.dev20231116184319, 2.7.2.dev20231116191348, 2.7.2.dev20231120180347, 2.7.2.dev20231120182309, 2.7.2.dev20231120194623, 2.7.2.dev20231121001441, 2.7.2.dev20231121003347, 2.7.2.dev20231122175059, 2.7.2.dev20231122175125, 2.7.2.dev20231127170755, 2.7.2.dev20231127175723, 2.7.2.dev20231130185849, 2.7.2.dev20231130185931, 2.7.2.dev20231201165730, 2.7.2.dev20231201185305, 2.7.2.dev20231201194131, 2.7.2.dev20231201201650, 2.7.2.dev20231201210031, 2.7.2.dev20231207083329, 2.7.2.dev20231208222852, 2.7.2.dev20231208230844, 2.7.2.dev20231211173610, 2.7.2.dev20231212020016, 2.7.2.dev20231212174007, 2.7.2.dev20231213173219, 2.7.2.dev20231213213452, 2.7.2.dev20231213213539, 2.7.2.dev20231213234845, 2.7.2.dev20231214002335, 2.7.2.dev20231214002408, 2.7.2.dev20231214053439, 2.7.2.dev20231214180911, 2.7.2.dev20231215012744, 2.7.2.dev20231215012745, 2.7.2.dev20231215044402, 2.7.2.dev20231215163418, 2.7.2.dev20231217030652, 2.7.2.dev20231217185214, 2.7.2.dev20231218174321, 2.7.2.dev20231218201905, 2.7.2.dev20231218201951, 2.7.2.dev20231218201959, 2.7.2.dev20231219173214, 2.7.2.dev20231219181701, 2.7.2.dev20231220164932, 2.7.2.dev20231220170548, 2.7.2.dev20231221205735, 2.7.2.dev20231226194935, 2.7.2.dev20231226201410, 2.7.2.dev20231226201508, 2.7.2.dev20231227175100, 2.7.2.dev20231227175133, 2.7.2.dev20231228190544, 2.7.2.dev20240124195407, 2.7.2.dev20240126202601, 2.7.2.dev20240126202636, 2.7.2.dev20240129200402, 2.7.2.dev20240129200444, 2.7.2.dev20240129200449, 2.7.2.dev20240131173210, 2.7.2.dev20240131192817, 2.7.2.dev20240131192849, 2.7.2.dev20240131192922, 2.7.2.dev20240202191602, 2.7.2.dev20240202201737, 2.7.2.dev20240203024237, 2.7.2.dev20240203232027, 2.7.2.dev20240207182832, 2.7.2.dev20240208054719, 2.7.2.dev20240208164340, 2.7.2.dev20240209195529, 2.7.2.dev20240212174518, 2.7.2.dev20240216172520, 2.7.2.dev20240221173509, 2.7.2.dev20240221195912, 2.7.2.dev20240221200029, 2.7.2.dev20240228210643, 2.7.2.dev20240228215651, 2.7.2.dev20240301181357, 2.7.2.dev20240301184314, 2.7.2.dev20240301184419, 2.7.2.dev20240304193607, 2.7.2.dev20240304202210, 2.7.2.dev20240305090621, 2.7.2.dev20240305102228, 2.7.2.dev20240305102301, 2.7.2.dev20240305102307, 2.7.2.dev20240306223647, 2.7.2.dev20240307043628, 2.7.2.dev20240307184802, 2.7.2.dev20240311090405, 2.7.2.dev20240311174043, 2.7.2.dev20240311192812, 2.7.2.dev20240312224546, 2.7.2.dev20240318031945, 2.7.2.dev20240319170226, 2.7.2.dev20240321165917, 2.7.2.dev20240322175159, 2.7.2.dev20240322175253, 2.7.2.dev20240326195015, 2.8.0.dev20240402022039, 2.8.0.dev20240402164918, 2.8.0, 2.8.1.dev20240405180156, 2.8.1.dev20240408174636, 2.8.1.dev20240408183353, 2.8.1.dev20240410191601, 2.8.1.dev20240414072819, 2.8.1.dev20240414080846, 2.8.1.dev20240419190920, 2.8.1.dev20240419190927, 2.8.1.dev20240424190636, 2.8.1.dev20240424190641, 2.8.1.dev20240424190719, 2.8.1.dev20240424201325, 2.8.1.dev20240501163357, 2.8.1.dev20240507151145, 2.8.1.dev20240515163640, 2.8.1.dev20240517170323, 2.8.1.dev20240524164912, 2.8.1.dev20240529195718, 2.8.1.dev20240529195736, 2.8.1.dev20240603184746, 2.8.1.dev20240603202010, 2.8.1.dev20240603202041, 2.8.1.dev20240605204400, 2.8.1.dev20240605205816, 2.8.1.dev20240607220317, 2.8.1.dev20240607220322, 2.8.1.dev20240617195058, 2.8.1.dev20240617204840, 2.8.1.dev20240619190013, 2.8.1.dev20240621205636, 2.8.1.dev20240621205637, 2.8.1.dev20240621205723, 2.8.1.dev20240621205724, 2.8.1.dev20240624214059, 2.8.1.dev20240624214104, 2.8.1.dev20240624214138, 2.8.1.dev20240624214143, 2.8.1.dev20240701163532, 2.8.1.dev20240701173042, 2.8.1.dev20240703234223, 2.8.1.dev20240703234259, 2.8.1.dev20240703234308, 2.8.1.dev20240703234442, 2.8.1.dev20240705204851, 2.8.1.dev20240705204929, 2.8.1.dev20240705204934, 2.8.1.dev20240708165747, 2.8.1.dev20240708175506, 2.8.1.dev20240709170116, 2.8.1.dev20240710195406, 2.8.1.dev20240710195445, 2.8.1.dev20240723182008, 2.8.1.dev20240724164312, 2.8.1.dev20240724182207, 2.8.1.dev20240724182210, 2.8.1.dev20240726192318, 2.8.1.dev20240726192353, 2.8.1.dev20240726192355, 2.8.1.dev20240729164834, 2.8.1.dev20240729182451, 2.8.1.dev20240802165407, 2.8.1.dev20240802170935, 2.8.1.dev20240802170938, 2.8.1.dev20240805220729, 2.8.1.dev20240807204954, 2.8.1.dev20240809233223, 2.8.1.dev20240809233306, 2.8.1.dev20240812201752, 2.8.1.dev20240812205103, 2.8.1.dev20240812205133, 2.8.1.dev20240816162155, 2.8.1.dev20240819170440, 2.8.1.dev20240819201642, 2.8.1.dev20240821191654, 2.8.1.dev20240821191718, 2.8.1.dev20240821191738, 2.8.1.dev20240823184427, 2.8.1.dev20240823184439)\u001b[0m\u001b[31m\n",
            "\u001b[0m\u001b[31mERROR: No matching distribution found for deepchem==2.6.0\u001b[0m\u001b[31m\n",
            "\u001b[0m"
          ]
        }
      ]
    },
    {
      "cell_type": "code",
      "source": [
        "import deepchem as dc\n",
        "import pandas as pd\n",
        "from sklearn.model_selection import train_test_split\n",
        "from deepchem.models import GraphConvModel\n",
        "import os\n",
        "os.environ['TF_USE_LEGACY_KERAS'] = 'True'\n",
        "\n",
        "\n",
        "# 1. 데이터 로드 및 전처리\n",
        "chembl_data = pd.read_csv('/content/drive/MyDrive/데이콘/train.csv')\n",
        "\n",
        "# SMILES 데이터와 pIC50 값을 DeepChem의 Dataset으로 변환\n",
        "featurizer = dc.feat.ConvMolFeaturizer()\n",
        "X = featurizer.featurize(chembl_data['Smiles'].values)\n",
        "y = chembl_data['pIC50'].values\n",
        "\n",
        "# DeepChem 데이터셋으로 변환\n",
        "dataset = dc.data.NumpyDataset(X, y)\n",
        "\n",
        "# 2. 학습 및 검증 데이터 분리\n",
        "train_dataset, valid_dataset, test_dataset = dc.splits.RandomSplitter().train_valid_test_split(dataset, frac_train=0.7, frac_valid=0.15, frac_test=0.15, seed=42)\n",
        "\n",
        "# 3. GraphConvModel 모델 정의 및 학습\n",
        "graphconv_model = GraphConvModel(n_tasks=1, mode='regression', dropout=0.2, model_dir=\"graphconv_model\", batch_normalize=False) # Set batch_normalize to False\n",
        "graphconv_model.fit(train_dataset, nb_epoch=50)\n",
        "\n",
        "# 4. 검증 데이터 평가\n",
        "train_scores = graphconv_model.evaluate(train_dataset, [dc.metrics.Metric(dc.metrics.mean_squared_error)])\n",
        "valid_scores = graphconv_model.evaluate(valid_dataset, [dc.metrics.Metric(dc.metrics.mean_squared_error)])\n",
        "\n",
        "print(\"GraphConvModel Train MSE:\", train_scores['mean_squared_error'])\n",
        "print(\"GraphConvModel Valid MSE:\", valid_scores['mean_squared_error'])\n",
        "\n",
        "# 5. 테스트 데이터 예측 및 결과 저장\n",
        "test_data = pd.read_csv('/content/drive/MyDrive/데이콘/test.csv')\n",
        "test_X = featurizer.featurize(test_data['Smiles'].values)\n",
        "test_dataset = dc.data.NumpyDataset(test_X)\n",
        "\n",
        "test_preds_graphconv = graphconv_model.predict(test_dataset)\n",
        "\n",
        "# 결과 저장\n",
        "submit = pd.read_csv('/content/drive/MyDrive/데이콘/sample_submission.csv')\n",
        "submit['pIC50'] = test_preds_graphconv\n",
        "submit.to_csv('graphconv_submit.csv', index=False)\n",
        "\n"
      ],
      "metadata": {
        "colab": {
          "base_uri": "https://localhost:8080/"
        },
        "id": "dzslsROdnbr0",
        "outputId": "8eaff52a-3d42-4db8-dcc4-b425cb12e762"
      },
      "execution_count": null,
      "outputs": [
        {
          "output_type": "stream",
          "name": "stderr",
          "text": [
            "WARNING:deepchem.feat.molecule_featurizers.rdkit_descriptors:No normalization for SPS. Feature removed!\n",
            "WARNING:deepchem.feat.molecule_featurizers.rdkit_descriptors:No normalization for AvgIpc. Feature removed!\n",
            "WARNING:deepchem.models.torch_models:Skipped loading modules with pytorch-geometric dependency, missing a dependency. No module named 'torch_geometric'\n",
            "WARNING:deepchem.models:Skipped loading modules with pytorch-geometric dependency, missing a dependency. cannot import name 'DMPNN' from 'deepchem.models.torch_models' (/usr/local/lib/python3.10/dist-packages/deepchem/models/torch_models/__init__.py)\n",
            "WARNING:deepchem.models:Skipped loading modules with pytorch-lightning dependency, missing a dependency. No module named 'lightning'\n",
            "WARNING:deepchem.models:Skipped loading some Jax models, missing a dependency. No module named 'haiku'\n",
            "/usr/local/lib/python3.10/dist-packages/tensorflow/python/framework/indexed_slices.py:444: UserWarning: Converting sparse IndexedSlices(IndexedSlices(indices=Tensor(\"gradient_tape/private__graph_conv_keras_model/graph_pool_1/Reshape_14:0\", shape=(448,), dtype=int32), values=Tensor(\"gradient_tape/private__graph_conv_keras_model/graph_pool_1/Reshape_13:0\", shape=(448, 64), dtype=float32), dense_shape=Tensor(\"gradient_tape/private__graph_conv_keras_model/graph_pool_1/Cast_4:0\", shape=(2,), dtype=int32))) to a dense Tensor of unknown shape. This may consume a large amount of memory.\n",
            "  warnings.warn(\n",
            "/usr/local/lib/python3.10/dist-packages/tensorflow/python/framework/indexed_slices.py:444: UserWarning: Converting sparse IndexedSlices(IndexedSlices(indices=Tensor(\"gradient_tape/private__graph_conv_keras_model/graph_pool_1/Reshape_17:0\", shape=(3102,), dtype=int32), values=Tensor(\"gradient_tape/private__graph_conv_keras_model/graph_pool_1/Reshape_16:0\", shape=(3102, 64), dtype=float32), dense_shape=Tensor(\"gradient_tape/private__graph_conv_keras_model/graph_pool_1/Cast_5:0\", shape=(2,), dtype=int32))) to a dense Tensor of unknown shape. This may consume a large amount of memory.\n",
            "  warnings.warn(\n",
            "/usr/local/lib/python3.10/dist-packages/tensorflow/python/framework/indexed_slices.py:444: UserWarning: Converting sparse IndexedSlices(IndexedSlices(indices=Tensor(\"gradient_tape/private__graph_conv_keras_model/graph_pool_1/Reshape_20:0\", shape=(2982,), dtype=int32), values=Tensor(\"gradient_tape/private__graph_conv_keras_model/graph_pool_1/Reshape_19:0\", shape=(2982, 64), dtype=float32), dense_shape=Tensor(\"gradient_tape/private__graph_conv_keras_model/graph_pool_1/Cast_6:0\", shape=(2,), dtype=int32))) to a dense Tensor of unknown shape. This may consume a large amount of memory.\n",
            "  warnings.warn(\n",
            "/usr/local/lib/python3.10/dist-packages/tensorflow/python/framework/indexed_slices.py:444: UserWarning: Converting sparse IndexedSlices(IndexedSlices(indices=Tensor(\"gradient_tape/private__graph_conv_keras_model/graph_pool_1/Reshape_23:0\", shape=(188,), dtype=int32), values=Tensor(\"gradient_tape/private__graph_conv_keras_model/graph_pool_1/Reshape_22:0\", shape=(188, 64), dtype=float32), dense_shape=Tensor(\"gradient_tape/private__graph_conv_keras_model/graph_pool_1/Cast_7:0\", shape=(2,), dtype=int32))) to a dense Tensor of unknown shape. This may consume a large amount of memory.\n",
            "  warnings.warn(\n",
            "/usr/local/lib/python3.10/dist-packages/tensorflow/python/framework/indexed_slices.py:444: UserWarning: Converting sparse IndexedSlices(IndexedSlices(indices=Tensor(\"gradient_tape/private__graph_conv_keras_model/graph_conv_1/Reshape_11:0\", shape=(448,), dtype=int32), values=Tensor(\"gradient_tape/private__graph_conv_keras_model/graph_conv_1/Reshape_10:0\", shape=(448, 64), dtype=float32), dense_shape=Tensor(\"gradient_tape/private__graph_conv_keras_model/graph_conv_1/Cast:0\", shape=(2,), dtype=int32))) to a dense Tensor of unknown shape. This may consume a large amount of memory.\n",
            "  warnings.warn(\n",
            "/usr/local/lib/python3.10/dist-packages/tensorflow/python/framework/indexed_slices.py:444: UserWarning: Converting sparse IndexedSlices(IndexedSlices(indices=Tensor(\"gradient_tape/private__graph_conv_keras_model/graph_conv_1/Reshape_13:0\", shape=(3102,), dtype=int32), values=Tensor(\"gradient_tape/private__graph_conv_keras_model/graph_conv_1/Reshape_12:0\", shape=(3102, 64), dtype=float32), dense_shape=Tensor(\"gradient_tape/private__graph_conv_keras_model/graph_conv_1/Cast_1:0\", shape=(2,), dtype=int32))) to a dense Tensor of unknown shape. This may consume a large amount of memory.\n",
            "  warnings.warn(\n",
            "/usr/local/lib/python3.10/dist-packages/tensorflow/python/framework/indexed_slices.py:444: UserWarning: Converting sparse IndexedSlices(IndexedSlices(indices=Tensor(\"gradient_tape/private__graph_conv_keras_model/graph_conv_1/Reshape_15:0\", shape=(2982,), dtype=int32), values=Tensor(\"gradient_tape/private__graph_conv_keras_model/graph_conv_1/Reshape_14:0\", shape=(2982, 64), dtype=float32), dense_shape=Tensor(\"gradient_tape/private__graph_conv_keras_model/graph_conv_1/Cast_2:0\", shape=(2,), dtype=int32))) to a dense Tensor of unknown shape. This may consume a large amount of memory.\n",
            "  warnings.warn(\n",
            "/usr/local/lib/python3.10/dist-packages/tensorflow/python/framework/indexed_slices.py:444: UserWarning: Converting sparse IndexedSlices(IndexedSlices(indices=Tensor(\"gradient_tape/private__graph_conv_keras_model/graph_conv_1/Reshape_17:0\", shape=(188,), dtype=int32), values=Tensor(\"gradient_tape/private__graph_conv_keras_model/graph_conv_1/Reshape_16:0\", shape=(188, 64), dtype=float32), dense_shape=Tensor(\"gradient_tape/private__graph_conv_keras_model/graph_conv_1/Cast_3:0\", shape=(2,), dtype=int32))) to a dense Tensor of unknown shape. This may consume a large amount of memory.\n",
            "  warnings.warn(\n",
            "/usr/local/lib/python3.10/dist-packages/tensorflow/python/framework/indexed_slices.py:444: UserWarning: Converting sparse IndexedSlices(IndexedSlices(indices=Tensor(\"gradient_tape/private__graph_conv_keras_model/graph_conv_1/Reshape_19:0\", shape=(0,), dtype=int32), values=Tensor(\"gradient_tape/private__graph_conv_keras_model/graph_conv_1/Reshape_18:0\", shape=(0, 64), dtype=float32), dense_shape=Tensor(\"gradient_tape/private__graph_conv_keras_model/graph_conv_1/Cast_4:0\", shape=(2,), dtype=int32))) to a dense Tensor of unknown shape. This may consume a large amount of memory.\n",
            "  warnings.warn(\n",
            "/usr/local/lib/python3.10/dist-packages/tensorflow/python/framework/indexed_slices.py:444: UserWarning: Converting sparse IndexedSlices(IndexedSlices(indices=Tensor(\"gradient_tape/private__graph_conv_keras_model/graph_conv_1/Reshape_21:0\", shape=(0,), dtype=int32), values=Tensor(\"gradient_tape/private__graph_conv_keras_model/graph_conv_1/Reshape_20:0\", shape=(0, 64), dtype=float32), dense_shape=Tensor(\"gradient_tape/private__graph_conv_keras_model/graph_conv_1/Cast_5:0\", shape=(2,), dtype=int32))) to a dense Tensor of unknown shape. This may consume a large amount of memory.\n",
            "  warnings.warn(\n",
            "/usr/local/lib/python3.10/dist-packages/tensorflow/python/framework/indexed_slices.py:444: UserWarning: Converting sparse IndexedSlices(IndexedSlices(indices=Tensor(\"gradient_tape/private__graph_conv_keras_model/graph_conv_1/Reshape_23:0\", shape=(0,), dtype=int32), values=Tensor(\"gradient_tape/private__graph_conv_keras_model/graph_conv_1/Reshape_22:0\", shape=(0, 64), dtype=float32), dense_shape=Tensor(\"gradient_tape/private__graph_conv_keras_model/graph_conv_1/Cast_6:0\", shape=(2,), dtype=int32))) to a dense Tensor of unknown shape. This may consume a large amount of memory.\n",
            "  warnings.warn(\n",
            "/usr/local/lib/python3.10/dist-packages/tensorflow/python/framework/indexed_slices.py:444: UserWarning: Converting sparse IndexedSlices(IndexedSlices(indices=Tensor(\"gradient_tape/private__graph_conv_keras_model/graph_conv_1/Reshape_25:0\", shape=(0,), dtype=int32), values=Tensor(\"gradient_tape/private__graph_conv_keras_model/graph_conv_1/Reshape_24:0\", shape=(0, 64), dtype=float32), dense_shape=Tensor(\"gradient_tape/private__graph_conv_keras_model/graph_conv_1/Cast_7:0\", shape=(2,), dtype=int32))) to a dense Tensor of unknown shape. This may consume a large amount of memory.\n",
            "  warnings.warn(\n",
            "/usr/local/lib/python3.10/dist-packages/tensorflow/python/framework/indexed_slices.py:444: UserWarning: Converting sparse IndexedSlices(IndexedSlices(indices=Tensor(\"gradient_tape/private__graph_conv_keras_model/graph_conv_1/Reshape_27:0\", shape=(0,), dtype=int32), values=Tensor(\"gradient_tape/private__graph_conv_keras_model/graph_conv_1/Reshape_26:0\", shape=(0, 64), dtype=float32), dense_shape=Tensor(\"gradient_tape/private__graph_conv_keras_model/graph_conv_1/Cast_8:0\", shape=(2,), dtype=int32))) to a dense Tensor of unknown shape. This may consume a large amount of memory.\n",
            "  warnings.warn(\n",
            "/usr/local/lib/python3.10/dist-packages/tensorflow/python/framework/indexed_slices.py:444: UserWarning: Converting sparse IndexedSlices(IndexedSlices(indices=Tensor(\"gradient_tape/private__graph_conv_keras_model/graph_conv_1/Reshape_29:0\", shape=(0,), dtype=int32), values=Tensor(\"gradient_tape/private__graph_conv_keras_model/graph_conv_1/Reshape_28:0\", shape=(0, 64), dtype=float32), dense_shape=Tensor(\"gradient_tape/private__graph_conv_keras_model/graph_conv_1/Cast_9:0\", shape=(2,), dtype=int32))) to a dense Tensor of unknown shape. This may consume a large amount of memory.\n",
            "  warnings.warn(\n",
            "/usr/local/lib/python3.10/dist-packages/tensorflow/python/framework/indexed_slices.py:444: UserWarning: Converting sparse IndexedSlices(IndexedSlices(indices=Tensor(\"gradient_tape/private__graph_conv_keras_model/graph_pool/Reshape_14:0\", shape=(448,), dtype=int32), values=Tensor(\"gradient_tape/private__graph_conv_keras_model/graph_pool/Reshape_13:0\", shape=(448, 64), dtype=float32), dense_shape=Tensor(\"gradient_tape/private__graph_conv_keras_model/graph_pool/Cast_4:0\", shape=(2,), dtype=int32))) to a dense Tensor of unknown shape. This may consume a large amount of memory.\n",
            "  warnings.warn(\n",
            "/usr/local/lib/python3.10/dist-packages/tensorflow/python/framework/indexed_slices.py:444: UserWarning: Converting sparse IndexedSlices(IndexedSlices(indices=Tensor(\"gradient_tape/private__graph_conv_keras_model/graph_pool/Reshape_17:0\", shape=(3102,), dtype=int32), values=Tensor(\"gradient_tape/private__graph_conv_keras_model/graph_pool/Reshape_16:0\", shape=(3102, 64), dtype=float32), dense_shape=Tensor(\"gradient_tape/private__graph_conv_keras_model/graph_pool/Cast_5:0\", shape=(2,), dtype=int32))) to a dense Tensor of unknown shape. This may consume a large amount of memory.\n",
            "  warnings.warn(\n",
            "/usr/local/lib/python3.10/dist-packages/tensorflow/python/framework/indexed_slices.py:444: UserWarning: Converting sparse IndexedSlices(IndexedSlices(indices=Tensor(\"gradient_tape/private__graph_conv_keras_model/graph_pool/Reshape_20:0\", shape=(2982,), dtype=int32), values=Tensor(\"gradient_tape/private__graph_conv_keras_model/graph_pool/Reshape_19:0\", shape=(2982, 64), dtype=float32), dense_shape=Tensor(\"gradient_tape/private__graph_conv_keras_model/graph_pool/Cast_6:0\", shape=(2,), dtype=int32))) to a dense Tensor of unknown shape. This may consume a large amount of memory.\n",
            "  warnings.warn(\n",
            "/usr/local/lib/python3.10/dist-packages/tensorflow/python/framework/indexed_slices.py:444: UserWarning: Converting sparse IndexedSlices(IndexedSlices(indices=Tensor(\"gradient_tape/private__graph_conv_keras_model/graph_pool/Reshape_23:0\", shape=(188,), dtype=int32), values=Tensor(\"gradient_tape/private__graph_conv_keras_model/graph_pool/Reshape_22:0\", shape=(188, 64), dtype=float32), dense_shape=Tensor(\"gradient_tape/private__graph_conv_keras_model/graph_pool/Cast_7:0\", shape=(2,), dtype=int32))) to a dense Tensor of unknown shape. This may consume a large amount of memory.\n",
            "  warnings.warn(\n",
            "/usr/local/lib/python3.10/dist-packages/tensorflow/python/framework/indexed_slices.py:444: UserWarning: Converting sparse IndexedSlices(IndexedSlices(indices=Tensor(\"gradient_tape/private__graph_conv_keras_model/graph_pool_1/Reshape_14:0\", shape=(None,), dtype=int32), values=Tensor(\"gradient_tape/private__graph_conv_keras_model/graph_pool_1/Reshape_13:0\", shape=(None, 64), dtype=float32), dense_shape=Tensor(\"gradient_tape/private__graph_conv_keras_model/graph_pool_1/Cast_4:0\", shape=(2,), dtype=int32))) to a dense Tensor of unknown shape. This may consume a large amount of memory.\n",
            "  warnings.warn(\n",
            "/usr/local/lib/python3.10/dist-packages/tensorflow/python/framework/indexed_slices.py:444: UserWarning: Converting sparse IndexedSlices(IndexedSlices(indices=Tensor(\"gradient_tape/private__graph_conv_keras_model/graph_pool_1/Reshape_17:0\", shape=(None,), dtype=int32), values=Tensor(\"gradient_tape/private__graph_conv_keras_model/graph_pool_1/Reshape_16:0\", shape=(None, 64), dtype=float32), dense_shape=Tensor(\"gradient_tape/private__graph_conv_keras_model/graph_pool_1/Cast_5:0\", shape=(2,), dtype=int32))) to a dense Tensor of unknown shape. This may consume a large amount of memory.\n",
            "  warnings.warn(\n",
            "/usr/local/lib/python3.10/dist-packages/tensorflow/python/framework/indexed_slices.py:444: UserWarning: Converting sparse IndexedSlices(IndexedSlices(indices=Tensor(\"gradient_tape/private__graph_conv_keras_model/graph_pool_1/Reshape_20:0\", shape=(None,), dtype=int32), values=Tensor(\"gradient_tape/private__graph_conv_keras_model/graph_pool_1/Reshape_19:0\", shape=(None, 64), dtype=float32), dense_shape=Tensor(\"gradient_tape/private__graph_conv_keras_model/graph_pool_1/Cast_6:0\", shape=(2,), dtype=int32))) to a dense Tensor of unknown shape. This may consume a large amount of memory.\n",
            "  warnings.warn(\n",
            "/usr/local/lib/python3.10/dist-packages/tensorflow/python/framework/indexed_slices.py:444: UserWarning: Converting sparse IndexedSlices(IndexedSlices(indices=Tensor(\"gradient_tape/private__graph_conv_keras_model/graph_pool_1/Reshape_23:0\", shape=(None,), dtype=int32), values=Tensor(\"gradient_tape/private__graph_conv_keras_model/graph_pool_1/Reshape_22:0\", shape=(None, 64), dtype=float32), dense_shape=Tensor(\"gradient_tape/private__graph_conv_keras_model/graph_pool_1/Cast_7:0\", shape=(2,), dtype=int32))) to a dense Tensor of unknown shape. This may consume a large amount of memory.\n",
            "  warnings.warn(\n",
            "/usr/local/lib/python3.10/dist-packages/tensorflow/python/framework/indexed_slices.py:444: UserWarning: Converting sparse IndexedSlices(IndexedSlices(indices=Tensor(\"gradient_tape/private__graph_conv_keras_model/graph_conv_1/Reshape_11:0\", shape=(None,), dtype=int32), values=Tensor(\"gradient_tape/private__graph_conv_keras_model/graph_conv_1/Reshape_10:0\", shape=(None, 64), dtype=float32), dense_shape=Tensor(\"gradient_tape/private__graph_conv_keras_model/graph_conv_1/Cast:0\", shape=(2,), dtype=int32))) to a dense Tensor of unknown shape. This may consume a large amount of memory.\n",
            "  warnings.warn(\n",
            "/usr/local/lib/python3.10/dist-packages/tensorflow/python/framework/indexed_slices.py:444: UserWarning: Converting sparse IndexedSlices(IndexedSlices(indices=Tensor(\"gradient_tape/private__graph_conv_keras_model/graph_conv_1/Reshape_13:0\", shape=(None,), dtype=int32), values=Tensor(\"gradient_tape/private__graph_conv_keras_model/graph_conv_1/Reshape_12:0\", shape=(None, 64), dtype=float32), dense_shape=Tensor(\"gradient_tape/private__graph_conv_keras_model/graph_conv_1/Cast_1:0\", shape=(2,), dtype=int32))) to a dense Tensor of unknown shape. This may consume a large amount of memory.\n",
            "  warnings.warn(\n",
            "/usr/local/lib/python3.10/dist-packages/tensorflow/python/framework/indexed_slices.py:444: UserWarning: Converting sparse IndexedSlices(IndexedSlices(indices=Tensor(\"gradient_tape/private__graph_conv_keras_model/graph_conv_1/Reshape_15:0\", shape=(None,), dtype=int32), values=Tensor(\"gradient_tape/private__graph_conv_keras_model/graph_conv_1/Reshape_14:0\", shape=(None, 64), dtype=float32), dense_shape=Tensor(\"gradient_tape/private__graph_conv_keras_model/graph_conv_1/Cast_2:0\", shape=(2,), dtype=int32))) to a dense Tensor of unknown shape. This may consume a large amount of memory.\n",
            "  warnings.warn(\n",
            "/usr/local/lib/python3.10/dist-packages/tensorflow/python/framework/indexed_slices.py:444: UserWarning: Converting sparse IndexedSlices(IndexedSlices(indices=Tensor(\"gradient_tape/private__graph_conv_keras_model/graph_conv_1/Reshape_17:0\", shape=(None,), dtype=int32), values=Tensor(\"gradient_tape/private__graph_conv_keras_model/graph_conv_1/Reshape_16:0\", shape=(None, 64), dtype=float32), dense_shape=Tensor(\"gradient_tape/private__graph_conv_keras_model/graph_conv_1/Cast_3:0\", shape=(2,), dtype=int32))) to a dense Tensor of unknown shape. This may consume a large amount of memory.\n",
            "  warnings.warn(\n",
            "/usr/local/lib/python3.10/dist-packages/tensorflow/python/framework/indexed_slices.py:444: UserWarning: Converting sparse IndexedSlices(IndexedSlices(indices=Tensor(\"gradient_tape/private__graph_conv_keras_model/graph_pool/Reshape_14:0\", shape=(None,), dtype=int32), values=Tensor(\"gradient_tape/private__graph_conv_keras_model/graph_pool/Reshape_13:0\", shape=(None, 64), dtype=float32), dense_shape=Tensor(\"gradient_tape/private__graph_conv_keras_model/graph_pool/Cast_4:0\", shape=(2,), dtype=int32))) to a dense Tensor of unknown shape. This may consume a large amount of memory.\n",
            "  warnings.warn(\n",
            "/usr/local/lib/python3.10/dist-packages/tensorflow/python/framework/indexed_slices.py:444: UserWarning: Converting sparse IndexedSlices(IndexedSlices(indices=Tensor(\"gradient_tape/private__graph_conv_keras_model/graph_pool/Reshape_17:0\", shape=(None,), dtype=int32), values=Tensor(\"gradient_tape/private__graph_conv_keras_model/graph_pool/Reshape_16:0\", shape=(None, 64), dtype=float32), dense_shape=Tensor(\"gradient_tape/private__graph_conv_keras_model/graph_pool/Cast_5:0\", shape=(2,), dtype=int32))) to a dense Tensor of unknown shape. This may consume a large amount of memory.\n",
            "  warnings.warn(\n",
            "/usr/local/lib/python3.10/dist-packages/tensorflow/python/framework/indexed_slices.py:444: UserWarning: Converting sparse IndexedSlices(IndexedSlices(indices=Tensor(\"gradient_tape/private__graph_conv_keras_model/graph_pool/Reshape_20:0\", shape=(None,), dtype=int32), values=Tensor(\"gradient_tape/private__graph_conv_keras_model/graph_pool/Reshape_19:0\", shape=(None, 64), dtype=float32), dense_shape=Tensor(\"gradient_tape/private__graph_conv_keras_model/graph_pool/Cast_6:0\", shape=(2,), dtype=int32))) to a dense Tensor of unknown shape. This may consume a large amount of memory.\n",
            "  warnings.warn(\n",
            "/usr/local/lib/python3.10/dist-packages/tensorflow/python/framework/indexed_slices.py:444: UserWarning: Converting sparse IndexedSlices(IndexedSlices(indices=Tensor(\"gradient_tape/private__graph_conv_keras_model/graph_pool/Reshape_23:0\", shape=(None,), dtype=int32), values=Tensor(\"gradient_tape/private__graph_conv_keras_model/graph_pool/Reshape_22:0\", shape=(None, 64), dtype=float32), dense_shape=Tensor(\"gradient_tape/private__graph_conv_keras_model/graph_pool/Cast_7:0\", shape=(2,), dtype=int32))) to a dense Tensor of unknown shape. This may consume a large amount of memory.\n",
            "  warnings.warn(\n"
          ]
        },
        {
          "output_type": "stream",
          "name": "stdout",
          "text": [
            "GraphConvModel Train MSE: 0.5014609786739228\n",
            "GraphConvModel Valid MSE: 0.6915797035922572\n"
          ]
        }
      ]
    }
  ]
}